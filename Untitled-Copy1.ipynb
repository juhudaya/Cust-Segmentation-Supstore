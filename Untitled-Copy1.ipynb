{
 "cells": [
  {
   "cell_type": "code",
   "execution_count": 1,
   "metadata": {},
   "outputs": [],
   "source": [
    "import pandas as pd\n",
    "import numpy as np\n",
    "import matplotlib.pyplot as plt\n",
    "import seaborn as sns"
   ]
  },
  {
   "cell_type": "code",
   "execution_count": 2,
   "metadata": {},
   "outputs": [],
   "source": [
    "data = pd.read_csv('superstore.csv', encoding=\"ISO-8859-1\", dtype={'Customer ID': str,'Order ID': str})"
   ]
  },
  {
   "cell_type": "code",
   "execution_count": 3,
   "metadata": {},
   "outputs": [
    {
     "data": {
      "text/html": [
       "<div>\n",
       "<style scoped>\n",
       "    .dataframe tbody tr th:only-of-type {\n",
       "        vertical-align: middle;\n",
       "    }\n",
       "\n",
       "    .dataframe tbody tr th {\n",
       "        vertical-align: top;\n",
       "    }\n",
       "\n",
       "    .dataframe thead th {\n",
       "        text-align: right;\n",
       "    }\n",
       "</style>\n",
       "<table border=\"1\" class=\"dataframe\">\n",
       "  <thead>\n",
       "    <tr style=\"text-align: right;\">\n",
       "      <th></th>\n",
       "      <th>Row ID</th>\n",
       "      <th>Order ID</th>\n",
       "      <th>Order Date</th>\n",
       "      <th>Ship Date</th>\n",
       "      <th>Ship Mode</th>\n",
       "      <th>Customer ID</th>\n",
       "      <th>Customer Name</th>\n",
       "      <th>Segment</th>\n",
       "      <th>Country</th>\n",
       "      <th>City</th>\n",
       "      <th>...</th>\n",
       "      <th>Postal Code</th>\n",
       "      <th>Region</th>\n",
       "      <th>Product ID</th>\n",
       "      <th>Category</th>\n",
       "      <th>Sub-Category</th>\n",
       "      <th>Product Name</th>\n",
       "      <th>Sales</th>\n",
       "      <th>Quantity</th>\n",
       "      <th>Discount</th>\n",
       "      <th>Profit</th>\n",
       "    </tr>\n",
       "  </thead>\n",
       "  <tbody>\n",
       "    <tr>\n",
       "      <th>0</th>\n",
       "      <td>1</td>\n",
       "      <td>CA-2016-152156</td>\n",
       "      <td>11/8/2016</td>\n",
       "      <td>11/11/2016</td>\n",
       "      <td>Second Class</td>\n",
       "      <td>CG-12520</td>\n",
       "      <td>Claire Gute</td>\n",
       "      <td>Consumer</td>\n",
       "      <td>United States</td>\n",
       "      <td>Henderson</td>\n",
       "      <td>...</td>\n",
       "      <td>42420</td>\n",
       "      <td>South</td>\n",
       "      <td>FUR-BO-10001798</td>\n",
       "      <td>Furniture</td>\n",
       "      <td>Bookcases</td>\n",
       "      <td>Bush Somerset Collection Bookcase</td>\n",
       "      <td>261.9600</td>\n",
       "      <td>2</td>\n",
       "      <td>0.00</td>\n",
       "      <td>41.9136</td>\n",
       "    </tr>\n",
       "    <tr>\n",
       "      <th>1</th>\n",
       "      <td>2</td>\n",
       "      <td>CA-2016-152156</td>\n",
       "      <td>11/8/2016</td>\n",
       "      <td>11/11/2016</td>\n",
       "      <td>Second Class</td>\n",
       "      <td>CG-12520</td>\n",
       "      <td>Claire Gute</td>\n",
       "      <td>Consumer</td>\n",
       "      <td>United States</td>\n",
       "      <td>Henderson</td>\n",
       "      <td>...</td>\n",
       "      <td>42420</td>\n",
       "      <td>South</td>\n",
       "      <td>FUR-CH-10000454</td>\n",
       "      <td>Furniture</td>\n",
       "      <td>Chairs</td>\n",
       "      <td>Hon Deluxe Fabric Upholstered Stacking Chairs,...</td>\n",
       "      <td>731.9400</td>\n",
       "      <td>3</td>\n",
       "      <td>0.00</td>\n",
       "      <td>219.5820</td>\n",
       "    </tr>\n",
       "    <tr>\n",
       "      <th>2</th>\n",
       "      <td>3</td>\n",
       "      <td>CA-2016-138688</td>\n",
       "      <td>6/12/2016</td>\n",
       "      <td>6/16/2016</td>\n",
       "      <td>Second Class</td>\n",
       "      <td>DV-13045</td>\n",
       "      <td>Darrin Van Huff</td>\n",
       "      <td>Corporate</td>\n",
       "      <td>United States</td>\n",
       "      <td>Los Angeles</td>\n",
       "      <td>...</td>\n",
       "      <td>90036</td>\n",
       "      <td>West</td>\n",
       "      <td>OFF-LA-10000240</td>\n",
       "      <td>Office Supplies</td>\n",
       "      <td>Labels</td>\n",
       "      <td>Self-Adhesive Address Labels for Typewriters b...</td>\n",
       "      <td>14.6200</td>\n",
       "      <td>2</td>\n",
       "      <td>0.00</td>\n",
       "      <td>6.8714</td>\n",
       "    </tr>\n",
       "    <tr>\n",
       "      <th>3</th>\n",
       "      <td>4</td>\n",
       "      <td>US-2015-108966</td>\n",
       "      <td>10/11/2015</td>\n",
       "      <td>10/18/2015</td>\n",
       "      <td>Standard Class</td>\n",
       "      <td>SO-20335</td>\n",
       "      <td>Sean O'Donnell</td>\n",
       "      <td>Consumer</td>\n",
       "      <td>United States</td>\n",
       "      <td>Fort Lauderdale</td>\n",
       "      <td>...</td>\n",
       "      <td>33311</td>\n",
       "      <td>South</td>\n",
       "      <td>FUR-TA-10000577</td>\n",
       "      <td>Furniture</td>\n",
       "      <td>Tables</td>\n",
       "      <td>Bretford CR4500 Series Slim Rectangular Table</td>\n",
       "      <td>957.5775</td>\n",
       "      <td>5</td>\n",
       "      <td>0.45</td>\n",
       "      <td>-383.0310</td>\n",
       "    </tr>\n",
       "    <tr>\n",
       "      <th>4</th>\n",
       "      <td>5</td>\n",
       "      <td>US-2015-108966</td>\n",
       "      <td>10/11/2015</td>\n",
       "      <td>10/18/2015</td>\n",
       "      <td>Standard Class</td>\n",
       "      <td>SO-20335</td>\n",
       "      <td>Sean O'Donnell</td>\n",
       "      <td>Consumer</td>\n",
       "      <td>United States</td>\n",
       "      <td>Fort Lauderdale</td>\n",
       "      <td>...</td>\n",
       "      <td>33311</td>\n",
       "      <td>South</td>\n",
       "      <td>OFF-ST-10000760</td>\n",
       "      <td>Office Supplies</td>\n",
       "      <td>Storage</td>\n",
       "      <td>Eldon Fold 'N Roll Cart System</td>\n",
       "      <td>22.3680</td>\n",
       "      <td>2</td>\n",
       "      <td>0.20</td>\n",
       "      <td>2.5164</td>\n",
       "    </tr>\n",
       "  </tbody>\n",
       "</table>\n",
       "<p>5 rows × 21 columns</p>\n",
       "</div>"
      ],
      "text/plain": [
       "   Row ID        Order ID  Order Date   Ship Date       Ship Mode Customer ID  \\\n",
       "0       1  CA-2016-152156   11/8/2016  11/11/2016    Second Class    CG-12520   \n",
       "1       2  CA-2016-152156   11/8/2016  11/11/2016    Second Class    CG-12520   \n",
       "2       3  CA-2016-138688   6/12/2016   6/16/2016    Second Class    DV-13045   \n",
       "3       4  US-2015-108966  10/11/2015  10/18/2015  Standard Class    SO-20335   \n",
       "4       5  US-2015-108966  10/11/2015  10/18/2015  Standard Class    SO-20335   \n",
       "\n",
       "     Customer Name    Segment        Country             City  ...  \\\n",
       "0      Claire Gute   Consumer  United States        Henderson  ...   \n",
       "1      Claire Gute   Consumer  United States        Henderson  ...   \n",
       "2  Darrin Van Huff  Corporate  United States      Los Angeles  ...   \n",
       "3   Sean O'Donnell   Consumer  United States  Fort Lauderdale  ...   \n",
       "4   Sean O'Donnell   Consumer  United States  Fort Lauderdale  ...   \n",
       "\n",
       "  Postal Code  Region       Product ID         Category Sub-Category  \\\n",
       "0       42420   South  FUR-BO-10001798        Furniture    Bookcases   \n",
       "1       42420   South  FUR-CH-10000454        Furniture       Chairs   \n",
       "2       90036    West  OFF-LA-10000240  Office Supplies       Labels   \n",
       "3       33311   South  FUR-TA-10000577        Furniture       Tables   \n",
       "4       33311   South  OFF-ST-10000760  Office Supplies      Storage   \n",
       "\n",
       "                                        Product Name     Sales  Quantity  \\\n",
       "0                  Bush Somerset Collection Bookcase  261.9600         2   \n",
       "1  Hon Deluxe Fabric Upholstered Stacking Chairs,...  731.9400         3   \n",
       "2  Self-Adhesive Address Labels for Typewriters b...   14.6200         2   \n",
       "3      Bretford CR4500 Series Slim Rectangular Table  957.5775         5   \n",
       "4                     Eldon Fold 'N Roll Cart System   22.3680         2   \n",
       "\n",
       "   Discount    Profit  \n",
       "0      0.00   41.9136  \n",
       "1      0.00  219.5820  \n",
       "2      0.00    6.8714  \n",
       "3      0.45 -383.0310  \n",
       "4      0.20    2.5164  \n",
       "\n",
       "[5 rows x 21 columns]"
      ]
     },
     "execution_count": 3,
     "metadata": {},
     "output_type": "execute_result"
    }
   ],
   "source": [
    "data.head()"
   ]
  },
  {
   "cell_type": "code",
   "execution_count": 4,
   "metadata": {},
   "outputs": [
    {
     "name": "stdout",
     "output_type": "stream",
     "text": [
      "<class 'pandas.core.frame.DataFrame'>\n",
      "RangeIndex: 9994 entries, 0 to 9993\n",
      "Data columns (total 21 columns):\n",
      " #   Column         Non-Null Count  Dtype  \n",
      "---  ------         --------------  -----  \n",
      " 0   Row ID         9994 non-null   int64  \n",
      " 1   Order ID       9994 non-null   object \n",
      " 2   Order Date     9994 non-null   object \n",
      " 3   Ship Date      9994 non-null   object \n",
      " 4   Ship Mode      9994 non-null   object \n",
      " 5   Customer ID    9994 non-null   object \n",
      " 6   Customer Name  9994 non-null   object \n",
      " 7   Segment        9994 non-null   object \n",
      " 8   Country        9994 non-null   object \n",
      " 9   City           9994 non-null   object \n",
      " 10  State          9994 non-null   object \n",
      " 11  Postal Code    9994 non-null   int64  \n",
      " 12  Region         9994 non-null   object \n",
      " 13  Product ID     9994 non-null   object \n",
      " 14  Category       9994 non-null   object \n",
      " 15  Sub-Category   9994 non-null   object \n",
      " 16  Product Name   9994 non-null   object \n",
      " 17  Sales          9994 non-null   float64\n",
      " 18  Quantity       9994 non-null   int64  \n",
      " 19  Discount       9994 non-null   float64\n",
      " 20  Profit         9994 non-null   float64\n",
      "dtypes: float64(3), int64(3), object(15)\n",
      "memory usage: 1.6+ MB\n"
     ]
    }
   ],
   "source": [
    "data.info()"
   ]
  },
  {
   "cell_type": "code",
   "execution_count": 5,
   "metadata": {},
   "outputs": [],
   "source": [
    "def unique_values(data):\n",
    "    total = data.count()\n",
    "    tt = pd.DataFrame(total)\n",
    "    tt.columns = ['Total']\n",
    "    uniques = []\n",
    "    for col in data.columns:\n",
    "        unique = data[col].nunique()\n",
    "        uniques.append(unique)\n",
    "    tt['Uniques'] = uniques\n",
    "    return tt"
   ]
  },
  {
   "cell_type": "code",
   "execution_count": 6,
   "metadata": {},
   "outputs": [],
   "source": [
    "def missing_data(data):\n",
    "    total = data.isnull().sum().sort_values(ascending = False)\n",
    "    percent = (data.isnull().sum()/data.isnull().count()*100).sort_values(ascending = False)\n",
    "    return pd.concat([total, percent], axis=1, keys=['Total', 'Percent'])"
   ]
  },
  {
   "cell_type": "code",
   "execution_count": 7,
   "metadata": {},
   "outputs": [
    {
     "data": {
      "text/html": [
       "<div>\n",
       "<style scoped>\n",
       "    .dataframe tbody tr th:only-of-type {\n",
       "        vertical-align: middle;\n",
       "    }\n",
       "\n",
       "    .dataframe tbody tr th {\n",
       "        vertical-align: top;\n",
       "    }\n",
       "\n",
       "    .dataframe thead th {\n",
       "        text-align: right;\n",
       "    }\n",
       "</style>\n",
       "<table border=\"1\" class=\"dataframe\">\n",
       "  <thead>\n",
       "    <tr style=\"text-align: right;\">\n",
       "      <th></th>\n",
       "      <th>Total</th>\n",
       "      <th>Uniques</th>\n",
       "    </tr>\n",
       "  </thead>\n",
       "  <tbody>\n",
       "    <tr>\n",
       "      <th>Row ID</th>\n",
       "      <td>9994</td>\n",
       "      <td>9994</td>\n",
       "    </tr>\n",
       "    <tr>\n",
       "      <th>Order ID</th>\n",
       "      <td>9994</td>\n",
       "      <td>5009</td>\n",
       "    </tr>\n",
       "    <tr>\n",
       "      <th>Order Date</th>\n",
       "      <td>9994</td>\n",
       "      <td>1237</td>\n",
       "    </tr>\n",
       "    <tr>\n",
       "      <th>Ship Date</th>\n",
       "      <td>9994</td>\n",
       "      <td>1334</td>\n",
       "    </tr>\n",
       "    <tr>\n",
       "      <th>Ship Mode</th>\n",
       "      <td>9994</td>\n",
       "      <td>4</td>\n",
       "    </tr>\n",
       "    <tr>\n",
       "      <th>Customer ID</th>\n",
       "      <td>9994</td>\n",
       "      <td>793</td>\n",
       "    </tr>\n",
       "    <tr>\n",
       "      <th>Customer Name</th>\n",
       "      <td>9994</td>\n",
       "      <td>793</td>\n",
       "    </tr>\n",
       "    <tr>\n",
       "      <th>Segment</th>\n",
       "      <td>9994</td>\n",
       "      <td>3</td>\n",
       "    </tr>\n",
       "    <tr>\n",
       "      <th>Country</th>\n",
       "      <td>9994</td>\n",
       "      <td>1</td>\n",
       "    </tr>\n",
       "    <tr>\n",
       "      <th>City</th>\n",
       "      <td>9994</td>\n",
       "      <td>531</td>\n",
       "    </tr>\n",
       "    <tr>\n",
       "      <th>State</th>\n",
       "      <td>9994</td>\n",
       "      <td>49</td>\n",
       "    </tr>\n",
       "    <tr>\n",
       "      <th>Postal Code</th>\n",
       "      <td>9994</td>\n",
       "      <td>631</td>\n",
       "    </tr>\n",
       "    <tr>\n",
       "      <th>Region</th>\n",
       "      <td>9994</td>\n",
       "      <td>4</td>\n",
       "    </tr>\n",
       "    <tr>\n",
       "      <th>Product ID</th>\n",
       "      <td>9994</td>\n",
       "      <td>1862</td>\n",
       "    </tr>\n",
       "    <tr>\n",
       "      <th>Category</th>\n",
       "      <td>9994</td>\n",
       "      <td>3</td>\n",
       "    </tr>\n",
       "    <tr>\n",
       "      <th>Sub-Category</th>\n",
       "      <td>9994</td>\n",
       "      <td>17</td>\n",
       "    </tr>\n",
       "    <tr>\n",
       "      <th>Product Name</th>\n",
       "      <td>9994</td>\n",
       "      <td>1850</td>\n",
       "    </tr>\n",
       "    <tr>\n",
       "      <th>Sales</th>\n",
       "      <td>9994</td>\n",
       "      <td>5825</td>\n",
       "    </tr>\n",
       "    <tr>\n",
       "      <th>Quantity</th>\n",
       "      <td>9994</td>\n",
       "      <td>14</td>\n",
       "    </tr>\n",
       "    <tr>\n",
       "      <th>Discount</th>\n",
       "      <td>9994</td>\n",
       "      <td>12</td>\n",
       "    </tr>\n",
       "    <tr>\n",
       "      <th>Profit</th>\n",
       "      <td>9994</td>\n",
       "      <td>7287</td>\n",
       "    </tr>\n",
       "  </tbody>\n",
       "</table>\n",
       "</div>"
      ],
      "text/plain": [
       "               Total  Uniques\n",
       "Row ID          9994     9994\n",
       "Order ID        9994     5009\n",
       "Order Date      9994     1237\n",
       "Ship Date       9994     1334\n",
       "Ship Mode       9994        4\n",
       "Customer ID     9994      793\n",
       "Customer Name   9994      793\n",
       "Segment         9994        3\n",
       "Country         9994        1\n",
       "City            9994      531\n",
       "State           9994       49\n",
       "Postal Code     9994      631\n",
       "Region          9994        4\n",
       "Product ID      9994     1862\n",
       "Category        9994        3\n",
       "Sub-Category    9994       17\n",
       "Product Name    9994     1850\n",
       "Sales           9994     5825\n",
       "Quantity        9994       14\n",
       "Discount        9994       12\n",
       "Profit          9994     7287"
      ]
     },
     "execution_count": 7,
     "metadata": {},
     "output_type": "execute_result"
    }
   ],
   "source": [
    "unique_values(data)"
   ]
  },
  {
   "cell_type": "code",
   "execution_count": 8,
   "metadata": {},
   "outputs": [
    {
     "data": {
      "text/html": [
       "<div>\n",
       "<style scoped>\n",
       "    .dataframe tbody tr th:only-of-type {\n",
       "        vertical-align: middle;\n",
       "    }\n",
       "\n",
       "    .dataframe tbody tr th {\n",
       "        vertical-align: top;\n",
       "    }\n",
       "\n",
       "    .dataframe thead th {\n",
       "        text-align: right;\n",
       "    }\n",
       "</style>\n",
       "<table border=\"1\" class=\"dataframe\">\n",
       "  <thead>\n",
       "    <tr style=\"text-align: right;\">\n",
       "      <th></th>\n",
       "      <th>Total</th>\n",
       "      <th>Percent</th>\n",
       "    </tr>\n",
       "  </thead>\n",
       "  <tbody>\n",
       "    <tr>\n",
       "      <th>Profit</th>\n",
       "      <td>0</td>\n",
       "      <td>0.0</td>\n",
       "    </tr>\n",
       "    <tr>\n",
       "      <th>City</th>\n",
       "      <td>0</td>\n",
       "      <td>0.0</td>\n",
       "    </tr>\n",
       "    <tr>\n",
       "      <th>Order ID</th>\n",
       "      <td>0</td>\n",
       "      <td>0.0</td>\n",
       "    </tr>\n",
       "    <tr>\n",
       "      <th>Order Date</th>\n",
       "      <td>0</td>\n",
       "      <td>0.0</td>\n",
       "    </tr>\n",
       "    <tr>\n",
       "      <th>Ship Date</th>\n",
       "      <td>0</td>\n",
       "      <td>0.0</td>\n",
       "    </tr>\n",
       "    <tr>\n",
       "      <th>Ship Mode</th>\n",
       "      <td>0</td>\n",
       "      <td>0.0</td>\n",
       "    </tr>\n",
       "    <tr>\n",
       "      <th>Customer ID</th>\n",
       "      <td>0</td>\n",
       "      <td>0.0</td>\n",
       "    </tr>\n",
       "    <tr>\n",
       "      <th>Customer Name</th>\n",
       "      <td>0</td>\n",
       "      <td>0.0</td>\n",
       "    </tr>\n",
       "    <tr>\n",
       "      <th>Segment</th>\n",
       "      <td>0</td>\n",
       "      <td>0.0</td>\n",
       "    </tr>\n",
       "    <tr>\n",
       "      <th>Country</th>\n",
       "      <td>0</td>\n",
       "      <td>0.0</td>\n",
       "    </tr>\n",
       "    <tr>\n",
       "      <th>State</th>\n",
       "      <td>0</td>\n",
       "      <td>0.0</td>\n",
       "    </tr>\n",
       "    <tr>\n",
       "      <th>Discount</th>\n",
       "      <td>0</td>\n",
       "      <td>0.0</td>\n",
       "    </tr>\n",
       "    <tr>\n",
       "      <th>Postal Code</th>\n",
       "      <td>0</td>\n",
       "      <td>0.0</td>\n",
       "    </tr>\n",
       "    <tr>\n",
       "      <th>Region</th>\n",
       "      <td>0</td>\n",
       "      <td>0.0</td>\n",
       "    </tr>\n",
       "    <tr>\n",
       "      <th>Product ID</th>\n",
       "      <td>0</td>\n",
       "      <td>0.0</td>\n",
       "    </tr>\n",
       "    <tr>\n",
       "      <th>Category</th>\n",
       "      <td>0</td>\n",
       "      <td>0.0</td>\n",
       "    </tr>\n",
       "    <tr>\n",
       "      <th>Sub-Category</th>\n",
       "      <td>0</td>\n",
       "      <td>0.0</td>\n",
       "    </tr>\n",
       "    <tr>\n",
       "      <th>Product Name</th>\n",
       "      <td>0</td>\n",
       "      <td>0.0</td>\n",
       "    </tr>\n",
       "    <tr>\n",
       "      <th>Sales</th>\n",
       "      <td>0</td>\n",
       "      <td>0.0</td>\n",
       "    </tr>\n",
       "    <tr>\n",
       "      <th>Quantity</th>\n",
       "      <td>0</td>\n",
       "      <td>0.0</td>\n",
       "    </tr>\n",
       "    <tr>\n",
       "      <th>Row ID</th>\n",
       "      <td>0</td>\n",
       "      <td>0.0</td>\n",
       "    </tr>\n",
       "  </tbody>\n",
       "</table>\n",
       "</div>"
      ],
      "text/plain": [
       "               Total  Percent\n",
       "Profit             0      0.0\n",
       "City               0      0.0\n",
       "Order ID           0      0.0\n",
       "Order Date         0      0.0\n",
       "Ship Date          0      0.0\n",
       "Ship Mode          0      0.0\n",
       "Customer ID        0      0.0\n",
       "Customer Name      0      0.0\n",
       "Segment            0      0.0\n",
       "Country            0      0.0\n",
       "State              0      0.0\n",
       "Discount           0      0.0\n",
       "Postal Code        0      0.0\n",
       "Region             0      0.0\n",
       "Product ID         0      0.0\n",
       "Category           0      0.0\n",
       "Sub-Category       0      0.0\n",
       "Product Name       0      0.0\n",
       "Sales              0      0.0\n",
       "Quantity           0      0.0\n",
       "Row ID             0      0.0"
      ]
     },
     "execution_count": 8,
     "metadata": {},
     "output_type": "execute_result"
    }
   ],
   "source": [
    "missing_data(data)"
   ]
  },
  {
   "cell_type": "markdown",
   "metadata": {},
   "source": [
    "## Data Cleaning\n",
    "\n",
    "### 1. Handling Missing Values"
   ]
  },
  {
   "cell_type": "code",
   "execution_count": 9,
   "metadata": {},
   "outputs": [
    {
     "data": {
      "image/png": "[encoded data removed]",
      "text/plain": [
       "<Figure size 360x360 with 1 Axes>"
      ]
     },
     "metadata": {
      "needs_background": "light"
     },
     "output_type": "display_data"
    },
    {
     "name": "stdout",
     "output_type": "stream",
     "text": [
      "Detail Numbers of Missing Values per columns:\n"
     ]
    },
    {
     "data": {
      "text/plain": [
       "Profit           0\n",
       "City             0\n",
       "Order ID         0\n",
       "Order Date       0\n",
       "Ship Date        0\n",
       "Ship Mode        0\n",
       "Customer ID      0\n",
       "Customer Name    0\n",
       "Segment          0\n",
       "Country          0\n",
       "State            0\n",
       "Discount         0\n",
       "Postal Code      0\n",
       "Region           0\n",
       "Product ID       0\n",
       "Category         0\n",
       "Sub-Category     0\n",
       "Product Name     0\n",
       "Sales            0\n",
       "Quantity         0\n",
       "Row ID           0\n",
       "dtype: int64"
      ]
     },
     "execution_count": 9,
     "metadata": {},
     "output_type": "execute_result"
    }
   ],
   "source": [
    "#checking Missing Values\n",
    "\n",
    "plt.figure(figsize=(5, 5))\n",
    "data.isnull().mean(axis=0).plot.barh()\n",
    "plt.title(\"Ratio of missing values per columns\")\n",
    "plt.show()\n",
    "print('Detail Numbers of Missing Values per columns:')\n",
    "data.isna().sum().sort_values(ascending=False)"
   ]
  },
  {
   "cell_type": "code",
   "execution_count": 10,
   "metadata": {},
   "outputs": [
    {
     "data": {
      "text/html": [
       "<div>\n",
       "<style scoped>\n",
       "    .dataframe tbody tr th:only-of-type {\n",
       "        vertical-align: middle;\n",
       "    }\n",
       "\n",
       "    .dataframe tbody tr th {\n",
       "        vertical-align: top;\n",
       "    }\n",
       "\n",
       "    .dataframe thead th {\n",
       "        text-align: right;\n",
       "    }\n",
       "</style>\n",
       "<table border=\"1\" class=\"dataframe\">\n",
       "  <thead>\n",
       "    <tr style=\"text-align: right;\">\n",
       "      <th></th>\n",
       "      <th>Row ID</th>\n",
       "      <th>Postal Code</th>\n",
       "      <th>Sales</th>\n",
       "      <th>Quantity</th>\n",
       "      <th>Discount</th>\n",
       "      <th>Profit</th>\n",
       "    </tr>\n",
       "  </thead>\n",
       "  <tbody>\n",
       "    <tr>\n",
       "      <th>count</th>\n",
       "      <td>9994.000000</td>\n",
       "      <td>9994.000000</td>\n",
       "      <td>9994.000000</td>\n",
       "      <td>9994.000000</td>\n",
       "      <td>9994.000000</td>\n",
       "      <td>9994.000000</td>\n",
       "    </tr>\n",
       "    <tr>\n",
       "      <th>mean</th>\n",
       "      <td>4997.500000</td>\n",
       "      <td>55190.379428</td>\n",
       "      <td>229.858001</td>\n",
       "      <td>3.789574</td>\n",
       "      <td>0.156203</td>\n",
       "      <td>28.656896</td>\n",
       "    </tr>\n",
       "    <tr>\n",
       "      <th>std</th>\n",
       "      <td>2885.163629</td>\n",
       "      <td>32063.693350</td>\n",
       "      <td>623.245101</td>\n",
       "      <td>2.225110</td>\n",
       "      <td>0.206452</td>\n",
       "      <td>234.260108</td>\n",
       "    </tr>\n",
       "    <tr>\n",
       "      <th>min</th>\n",
       "      <td>1.000000</td>\n",
       "      <td>1040.000000</td>\n",
       "      <td>0.444000</td>\n",
       "      <td>1.000000</td>\n",
       "      <td>0.000000</td>\n",
       "      <td>-6599.978000</td>\n",
       "    </tr>\n",
       "    <tr>\n",
       "      <th>25%</th>\n",
       "      <td>2499.250000</td>\n",
       "      <td>23223.000000</td>\n",
       "      <td>17.280000</td>\n",
       "      <td>2.000000</td>\n",
       "      <td>0.000000</td>\n",
       "      <td>1.728750</td>\n",
       "    </tr>\n",
       "    <tr>\n",
       "      <th>50%</th>\n",
       "      <td>4997.500000</td>\n",
       "      <td>56430.500000</td>\n",
       "      <td>54.490000</td>\n",
       "      <td>3.000000</td>\n",
       "      <td>0.200000</td>\n",
       "      <td>8.666500</td>\n",
       "    </tr>\n",
       "    <tr>\n",
       "      <th>75%</th>\n",
       "      <td>7495.750000</td>\n",
       "      <td>90008.000000</td>\n",
       "      <td>209.940000</td>\n",
       "      <td>5.000000</td>\n",
       "      <td>0.200000</td>\n",
       "      <td>29.364000</td>\n",
       "    </tr>\n",
       "    <tr>\n",
       "      <th>max</th>\n",
       "      <td>9994.000000</td>\n",
       "      <td>99301.000000</td>\n",
       "      <td>22638.480000</td>\n",
       "      <td>14.000000</td>\n",
       "      <td>0.800000</td>\n",
       "      <td>8399.976000</td>\n",
       "    </tr>\n",
       "  </tbody>\n",
       "</table>\n",
       "</div>"
      ],
      "text/plain": [
       "            Row ID   Postal Code         Sales     Quantity     Discount  \\\n",
       "count  9994.000000   9994.000000   9994.000000  9994.000000  9994.000000   \n",
       "mean   4997.500000  55190.379428    229.858001     3.789574     0.156203   \n",
       "std    2885.163629  32063.693350    623.245101     2.225110     0.206452   \n",
       "min       1.000000   1040.000000      0.444000     1.000000     0.000000   \n",
       "25%    2499.250000  23223.000000     17.280000     2.000000     0.000000   \n",
       "50%    4997.500000  56430.500000     54.490000     3.000000     0.200000   \n",
       "75%    7495.750000  90008.000000    209.940000     5.000000     0.200000   \n",
       "max    9994.000000  99301.000000  22638.480000    14.000000     0.800000   \n",
       "\n",
       "            Profit  \n",
       "count  9994.000000  \n",
       "mean     28.656896  \n",
       "std     234.260108  \n",
       "min   -6599.978000  \n",
       "25%       1.728750  \n",
       "50%       8.666500  \n",
       "75%      29.364000  \n",
       "max    8399.976000  "
      ]
     },
     "execution_count": 10,
     "metadata": {},
     "output_type": "execute_result"
    }
   ],
   "source": [
    "data.describe()"
   ]
  },
  {
   "cell_type": "markdown",
   "metadata": {},
   "source": [
    "### 2. Convert Order Date type into datetime"
   ]
  },
  {
   "cell_type": "code",
   "execution_count": 11,
   "metadata": {},
   "outputs": [
    {
     "name": "stdout",
     "output_type": "stream",
     "text": [
      "Order Date Feature Type before converted:  object\n",
      "****************************************************************************************************\n",
      "Order Date Feature Type after converted :  datetime64[ns]\n"
     ]
    },
    {
     "data": {
      "text/html": [
       "<div>\n",
       "<style scoped>\n",
       "    .dataframe tbody tr th:only-of-type {\n",
       "        vertical-align: middle;\n",
       "    }\n",
       "\n",
       "    .dataframe tbody tr th {\n",
       "        vertical-align: top;\n",
       "    }\n",
       "\n",
       "    .dataframe thead th {\n",
       "        text-align: right;\n",
       "    }\n",
       "</style>\n",
       "<table border=\"1\" class=\"dataframe\">\n",
       "  <thead>\n",
       "    <tr style=\"text-align: right;\">\n",
       "      <th></th>\n",
       "      <th>Row ID</th>\n",
       "      <th>Order ID</th>\n",
       "      <th>Order Date</th>\n",
       "      <th>Ship Date</th>\n",
       "      <th>Ship Mode</th>\n",
       "      <th>Customer ID</th>\n",
       "      <th>Customer Name</th>\n",
       "      <th>Segment</th>\n",
       "      <th>Country</th>\n",
       "      <th>City</th>\n",
       "      <th>...</th>\n",
       "      <th>Postal Code</th>\n",
       "      <th>Region</th>\n",
       "      <th>Product ID</th>\n",
       "      <th>Category</th>\n",
       "      <th>Sub-Category</th>\n",
       "      <th>Product Name</th>\n",
       "      <th>Sales</th>\n",
       "      <th>Quantity</th>\n",
       "      <th>Discount</th>\n",
       "      <th>Profit</th>\n",
       "    </tr>\n",
       "  </thead>\n",
       "  <tbody>\n",
       "    <tr>\n",
       "      <th>0</th>\n",
       "      <td>1</td>\n",
       "      <td>CA-2016-152156</td>\n",
       "      <td>2016-11-08</td>\n",
       "      <td>11/11/2016</td>\n",
       "      <td>Second Class</td>\n",
       "      <td>CG-12520</td>\n",
       "      <td>Claire Gute</td>\n",
       "      <td>Consumer</td>\n",
       "      <td>United States</td>\n",
       "      <td>Henderson</td>\n",
       "      <td>...</td>\n",
       "      <td>42420</td>\n",
       "      <td>South</td>\n",
       "      <td>FUR-BO-10001798</td>\n",
       "      <td>Furniture</td>\n",
       "      <td>Bookcases</td>\n",
       "      <td>Bush Somerset Collection Bookcase</td>\n",
       "      <td>261.9600</td>\n",
       "      <td>2</td>\n",
       "      <td>0.00</td>\n",
       "      <td>41.9136</td>\n",
       "    </tr>\n",
       "    <tr>\n",
       "      <th>1</th>\n",
       "      <td>2</td>\n",
       "      <td>CA-2016-152156</td>\n",
       "      <td>2016-11-08</td>\n",
       "      <td>11/11/2016</td>\n",
       "      <td>Second Class</td>\n",
       "      <td>CG-12520</td>\n",
       "      <td>Claire Gute</td>\n",
       "      <td>Consumer</td>\n",
       "      <td>United States</td>\n",
       "      <td>Henderson</td>\n",
       "      <td>...</td>\n",
       "      <td>42420</td>\n",
       "      <td>South</td>\n",
       "      <td>FUR-CH-10000454</td>\n",
       "      <td>Furniture</td>\n",
       "      <td>Chairs</td>\n",
       "      <td>Hon Deluxe Fabric Upholstered Stacking Chairs,...</td>\n",
       "      <td>731.9400</td>\n",
       "      <td>3</td>\n",
       "      <td>0.00</td>\n",
       "      <td>219.5820</td>\n",
       "    </tr>\n",
       "    <tr>\n",
       "      <th>2</th>\n",
       "      <td>3</td>\n",
       "      <td>CA-2016-138688</td>\n",
       "      <td>2016-06-12</td>\n",
       "      <td>6/16/2016</td>\n",
       "      <td>Second Class</td>\n",
       "      <td>DV-13045</td>\n",
       "      <td>Darrin Van Huff</td>\n",
       "      <td>Corporate</td>\n",
       "      <td>United States</td>\n",
       "      <td>Los Angeles</td>\n",
       "      <td>...</td>\n",
       "      <td>90036</td>\n",
       "      <td>West</td>\n",
       "      <td>OFF-LA-10000240</td>\n",
       "      <td>Office Supplies</td>\n",
       "      <td>Labels</td>\n",
       "      <td>Self-Adhesive Address Labels for Typewriters b...</td>\n",
       "      <td>14.6200</td>\n",
       "      <td>2</td>\n",
       "      <td>0.00</td>\n",
       "      <td>6.8714</td>\n",
       "    </tr>\n",
       "    <tr>\n",
       "      <th>3</th>\n",
       "      <td>4</td>\n",
       "      <td>US-2015-108966</td>\n",
       "      <td>2015-10-11</td>\n",
       "      <td>10/18/2015</td>\n",
       "      <td>Standard Class</td>\n",
       "      <td>SO-20335</td>\n",
       "      <td>Sean O'Donnell</td>\n",
       "      <td>Consumer</td>\n",
       "      <td>United States</td>\n",
       "      <td>Fort Lauderdale</td>\n",
       "      <td>...</td>\n",
       "      <td>33311</td>\n",
       "      <td>South</td>\n",
       "      <td>FUR-TA-10000577</td>\n",
       "      <td>Furniture</td>\n",
       "      <td>Tables</td>\n",
       "      <td>Bretford CR4500 Series Slim Rectangular Table</td>\n",
       "      <td>957.5775</td>\n",
       "      <td>5</td>\n",
       "      <td>0.45</td>\n",
       "      <td>-383.0310</td>\n",
       "    </tr>\n",
       "    <tr>\n",
       "      <th>4</th>\n",
       "      <td>5</td>\n",
       "      <td>US-2015-108966</td>\n",
       "      <td>2015-10-11</td>\n",
       "      <td>10/18/2015</td>\n",
       "      <td>Standard Class</td>\n",
       "      <td>SO-20335</td>\n",
       "      <td>Sean O'Donnell</td>\n",
       "      <td>Consumer</td>\n",
       "      <td>United States</td>\n",
       "      <td>Fort Lauderdale</td>\n",
       "      <td>...</td>\n",
       "      <td>33311</td>\n",
       "      <td>South</td>\n",
       "      <td>OFF-ST-10000760</td>\n",
       "      <td>Office Supplies</td>\n",
       "      <td>Storage</td>\n",
       "      <td>Eldon Fold 'N Roll Cart System</td>\n",
       "      <td>22.3680</td>\n",
       "      <td>2</td>\n",
       "      <td>0.20</td>\n",
       "      <td>2.5164</td>\n",
       "    </tr>\n",
       "  </tbody>\n",
       "</table>\n",
       "<p>5 rows × 21 columns</p>\n",
       "</div>"
      ],
      "text/plain": [
       "   Row ID        Order ID Order Date   Ship Date       Ship Mode Customer ID  \\\n",
       "0       1  CA-2016-152156 2016-11-08  11/11/2016    Second Class    CG-12520   \n",
       "1       2  CA-2016-152156 2016-11-08  11/11/2016    Second Class    CG-12520   \n",
       "2       3  CA-2016-138688 2016-06-12   6/16/2016    Second Class    DV-13045   \n",
       "3       4  US-2015-108966 2015-10-11  10/18/2015  Standard Class    SO-20335   \n",
       "4       5  US-2015-108966 2015-10-11  10/18/2015  Standard Class    SO-20335   \n",
       "\n",
       "     Customer Name    Segment        Country             City  ...  \\\n",
       "0      Claire Gute   Consumer  United States        Henderson  ...   \n",
       "1      Claire Gute   Consumer  United States        Henderson  ...   \n",
       "2  Darrin Van Huff  Corporate  United States      Los Angeles  ...   \n",
       "3   Sean O'Donnell   Consumer  United States  Fort Lauderdale  ...   \n",
       "4   Sean O'Donnell   Consumer  United States  Fort Lauderdale  ...   \n",
       "\n",
       "  Postal Code  Region       Product ID         Category Sub-Category  \\\n",
       "0       42420   South  FUR-BO-10001798        Furniture    Bookcases   \n",
       "1       42420   South  FUR-CH-10000454        Furniture       Chairs   \n",
       "2       90036    West  OFF-LA-10000240  Office Supplies       Labels   \n",
       "3       33311   South  FUR-TA-10000577        Furniture       Tables   \n",
       "4       33311   South  OFF-ST-10000760  Office Supplies      Storage   \n",
       "\n",
       "                                        Product Name     Sales  Quantity  \\\n",
       "0                  Bush Somerset Collection Bookcase  261.9600         2   \n",
       "1  Hon Deluxe Fabric Upholstered Stacking Chairs,...  731.9400         3   \n",
       "2  Self-Adhesive Address Labels for Typewriters b...   14.6200         2   \n",
       "3      Bretford CR4500 Series Slim Rectangular Table  957.5775         5   \n",
       "4                     Eldon Fold 'N Roll Cart System   22.3680         2   \n",
       "\n",
       "   Discount    Profit  \n",
       "0      0.00   41.9136  \n",
       "1      0.00  219.5820  \n",
       "2      0.00    6.8714  \n",
       "3      0.45 -383.0310  \n",
       "4      0.20    2.5164  \n",
       "\n",
       "[5 rows x 21 columns]"
      ]
     },
     "execution_count": 11,
     "metadata": {},
     "output_type": "execute_result"
    }
   ],
   "source": [
    "print(\"Order Date Feature Type before converted: \", data['Order Date'].dtype)\n",
    "print(\"*\"*100)\n",
    "\n",
    "#Change the \"Order Date\" Format into date time\n",
    "data['Order Date'] = pd.to_datetime(data['Order Date'])\n",
    "print(\"Order Date Feature Type after converted : \", data['Order Date'].dtype)\n",
    "data.head()"
   ]
  },
  {
   "cell_type": "markdown",
   "metadata": {},
   "source": [
    "### 3. Adding Neccesary Features\n",
    "In this project, i am going to do RFM analysis to segment the customers of Online Retail in UK. In order to do RFM analysis we obviously need a feature which shows the value of Recency, Frequency, and Monetary. Hence i am going to create new dataframes which calculates the value of RFM itself later on in this project. In addition to this project, I am going to do some Exploratory Data Analysis (EDA) as well. Therefore, I am going to need several features like Months, Days, and hours. In conclusion, to complete this project i am going to add these features on my datasets :\n",
    "\n",
    "Date\n",
    "Years\n",
    "Months\n",
    "Days\n",
    "Hours\n",
    "DayOfMonth\n",
    "In spite of that, it is possible that i'm going to add another features in the process of EDA."
   ]
  },
  {
   "cell_type": "code",
   "execution_count": 12,
   "metadata": {},
   "outputs": [
    {
     "data": {
      "text/plain": [
       "Index(['Row ID', 'Order ID', 'Order Date', 'Ship Date', 'Ship Mode',\n",
       "       'Customer ID', 'Customer Name', 'Segment', 'Country', 'City', 'State',\n",
       "       'Postal Code', 'Region', 'Product ID', 'Category', 'Sub-Category',\n",
       "       'Product Name', 'Sales', 'Quantity', 'Discount', 'Profit'],\n",
       "      dtype='object')"
      ]
     },
     "execution_count": 12,
     "metadata": {},
     "output_type": "execute_result"
    }
   ],
   "source": [
    "data.columns"
   ]
  },
  {
   "cell_type": "code",
   "execution_count": 19,
   "metadata": {},
   "outputs": [
    {
     "data": {
      "text/html": [
       "<div>\n",
       "<style scoped>\n",
       "    .dataframe tbody tr th:only-of-type {\n",
       "        vertical-align: middle;\n",
       "    }\n",
       "\n",
       "    .dataframe tbody tr th {\n",
       "        vertical-align: top;\n",
       "    }\n",
       "\n",
       "    .dataframe thead th {\n",
       "        text-align: right;\n",
       "    }\n",
       "</style>\n",
       "<table border=\"1\" class=\"dataframe\">\n",
       "  <thead>\n",
       "    <tr style=\"text-align: right;\">\n",
       "      <th></th>\n",
       "      <th>Row ID</th>\n",
       "      <th>Order ID</th>\n",
       "      <th>Order Date</th>\n",
       "      <th>Years</th>\n",
       "      <th>Months</th>\n",
       "      <th>Days</th>\n",
       "      <th>Date</th>\n",
       "      <th>DayOfMonth</th>\n",
       "      <th>Ship Date</th>\n",
       "      <th>Ship Mode</th>\n",
       "      <th>...</th>\n",
       "      <th>Postal Code</th>\n",
       "      <th>Region</th>\n",
       "      <th>Product ID</th>\n",
       "      <th>Category</th>\n",
       "      <th>Sub-Category</th>\n",
       "      <th>Product Name</th>\n",
       "      <th>Sales</th>\n",
       "      <th>Quantity</th>\n",
       "      <th>Discount</th>\n",
       "      <th>Profit</th>\n",
       "    </tr>\n",
       "  </thead>\n",
       "  <tbody>\n",
       "    <tr>\n",
       "      <th>0</th>\n",
       "      <td>1</td>\n",
       "      <td>CA-2016-152156</td>\n",
       "      <td>2016-11-08</td>\n",
       "      <td>2016</td>\n",
       "      <td>November</td>\n",
       "      <td>Tuesday</td>\n",
       "      <td>2016-11-08</td>\n",
       "      <td>8</td>\n",
       "      <td>11/11/2016</td>\n",
       "      <td>Second Class</td>\n",
       "      <td>...</td>\n",
       "      <td>42420</td>\n",
       "      <td>South</td>\n",
       "      <td>FUR-BO-10001798</td>\n",
       "      <td>Furniture</td>\n",
       "      <td>Bookcases</td>\n",
       "      <td>Bush Somerset Collection Bookcase</td>\n",
       "      <td>261.9600</td>\n",
       "      <td>2</td>\n",
       "      <td>0.00</td>\n",
       "      <td>41.9136</td>\n",
       "    </tr>\n",
       "    <tr>\n",
       "      <th>1</th>\n",
       "      <td>2</td>\n",
       "      <td>CA-2016-152156</td>\n",
       "      <td>2016-11-08</td>\n",
       "      <td>2016</td>\n",
       "      <td>November</td>\n",
       "      <td>Tuesday</td>\n",
       "      <td>2016-11-08</td>\n",
       "      <td>8</td>\n",
       "      <td>11/11/2016</td>\n",
       "      <td>Second Class</td>\n",
       "      <td>...</td>\n",
       "      <td>42420</td>\n",
       "      <td>South</td>\n",
       "      <td>FUR-CH-10000454</td>\n",
       "      <td>Furniture</td>\n",
       "      <td>Chairs</td>\n",
       "      <td>Hon Deluxe Fabric Upholstered Stacking Chairs,...</td>\n",
       "      <td>731.9400</td>\n",
       "      <td>3</td>\n",
       "      <td>0.00</td>\n",
       "      <td>219.5820</td>\n",
       "    </tr>\n",
       "    <tr>\n",
       "      <th>2</th>\n",
       "      <td>3</td>\n",
       "      <td>CA-2016-138688</td>\n",
       "      <td>2016-06-12</td>\n",
       "      <td>2016</td>\n",
       "      <td>June</td>\n",
       "      <td>Sunday</td>\n",
       "      <td>2016-06-12</td>\n",
       "      <td>12</td>\n",
       "      <td>6/16/2016</td>\n",
       "      <td>Second Class</td>\n",
       "      <td>...</td>\n",
       "      <td>90036</td>\n",
       "      <td>West</td>\n",
       "      <td>OFF-LA-10000240</td>\n",
       "      <td>Office Supplies</td>\n",
       "      <td>Labels</td>\n",
       "      <td>Self-Adhesive Address Labels for Typewriters b...</td>\n",
       "      <td>14.6200</td>\n",
       "      <td>2</td>\n",
       "      <td>0.00</td>\n",
       "      <td>6.8714</td>\n",
       "    </tr>\n",
       "    <tr>\n",
       "      <th>3</th>\n",
       "      <td>4</td>\n",
       "      <td>US-2015-108966</td>\n",
       "      <td>2015-10-11</td>\n",
       "      <td>2015</td>\n",
       "      <td>October</td>\n",
       "      <td>Sunday</td>\n",
       "      <td>2015-10-11</td>\n",
       "      <td>11</td>\n",
       "      <td>10/18/2015</td>\n",
       "      <td>Standard Class</td>\n",
       "      <td>...</td>\n",
       "      <td>33311</td>\n",
       "      <td>South</td>\n",
       "      <td>FUR-TA-10000577</td>\n",
       "      <td>Furniture</td>\n",
       "      <td>Tables</td>\n",
       "      <td>Bretford CR4500 Series Slim Rectangular Table</td>\n",
       "      <td>957.5775</td>\n",
       "      <td>5</td>\n",
       "      <td>0.45</td>\n",
       "      <td>-383.0310</td>\n",
       "    </tr>\n",
       "    <tr>\n",
       "      <th>4</th>\n",
       "      <td>5</td>\n",
       "      <td>US-2015-108966</td>\n",
       "      <td>2015-10-11</td>\n",
       "      <td>2015</td>\n",
       "      <td>October</td>\n",
       "      <td>Sunday</td>\n",
       "      <td>2015-10-11</td>\n",
       "      <td>11</td>\n",
       "      <td>10/18/2015</td>\n",
       "      <td>Standard Class</td>\n",
       "      <td>...</td>\n",
       "      <td>33311</td>\n",
       "      <td>South</td>\n",
       "      <td>OFF-ST-10000760</td>\n",
       "      <td>Office Supplies</td>\n",
       "      <td>Storage</td>\n",
       "      <td>Eldon Fold 'N Roll Cart System</td>\n",
       "      <td>22.3680</td>\n",
       "      <td>2</td>\n",
       "      <td>0.20</td>\n",
       "      <td>2.5164</td>\n",
       "    </tr>\n",
       "  </tbody>\n",
       "</table>\n",
       "<p>5 rows × 26 columns</p>\n",
       "</div>"
      ],
      "text/plain": [
       "   Row ID        Order ID Order Date  Years    Months     Days        Date  \\\n",
       "0       1  CA-2016-152156 2016-11-08   2016  November  Tuesday  2016-11-08   \n",
       "1       2  CA-2016-152156 2016-11-08   2016  November  Tuesday  2016-11-08   \n",
       "2       3  CA-2016-138688 2016-06-12   2016      June   Sunday  2016-06-12   \n",
       "3       4  US-2015-108966 2015-10-11   2015   October   Sunday  2015-10-11   \n",
       "4       5  US-2015-108966 2015-10-11   2015   October   Sunday  2015-10-11   \n",
       "\n",
       "   DayOfMonth   Ship Date       Ship Mode  ... Postal Code Region  \\\n",
       "0           8  11/11/2016    Second Class  ...       42420  South   \n",
       "1           8  11/11/2016    Second Class  ...       42420  South   \n",
       "2          12   6/16/2016    Second Class  ...       90036   West   \n",
       "3          11  10/18/2015  Standard Class  ...       33311  South   \n",
       "4          11  10/18/2015  Standard Class  ...       33311  South   \n",
       "\n",
       "        Product ID         Category Sub-Category  \\\n",
       "0  FUR-BO-10001798        Furniture    Bookcases   \n",
       "1  FUR-CH-10000454        Furniture       Chairs   \n",
       "2  OFF-LA-10000240  Office Supplies       Labels   \n",
       "3  FUR-TA-10000577        Furniture       Tables   \n",
       "4  OFF-ST-10000760  Office Supplies      Storage   \n",
       "\n",
       "                                        Product Name     Sales Quantity  \\\n",
       "0                  Bush Somerset Collection Bookcase  261.9600        2   \n",
       "1  Hon Deluxe Fabric Upholstered Stacking Chairs,...  731.9400        3   \n",
       "2  Self-Adhesive Address Labels for Typewriters b...   14.6200        2   \n",
       "3      Bretford CR4500 Series Slim Rectangular Table  957.5775        5   \n",
       "4                     Eldon Fold 'N Roll Cart System   22.3680        2   \n",
       "\n",
       "  Discount    Profit  \n",
       "0     0.00   41.9136  \n",
       "1     0.00  219.5820  \n",
       "2     0.00    6.8714  \n",
       "3     0.45 -383.0310  \n",
       "4     0.20    2.5164  \n",
       "\n",
       "[5 rows x 26 columns]"
      ]
     },
     "execution_count": 19,
     "metadata": {},
     "output_type": "execute_result"
    }
   ],
   "source": [
    "# Adding Years, Months, Days, Hours, and Date\n",
    "import datetime as dt\n",
    "data['Years'] = data['Order Date'].dt.year\n",
    "data['Months'] = data['Order Date'].dt.month_name()\n",
    "data['Days'] = data['Order Date'].dt.day_name()\n",
    "data['Date'] = data['Order Date'].dt.date\n",
    "data['DayOfMonth'] = data['Order Date'].dt.day\n",
    "\n",
    "#rearrange dataset\n",
    "data = data[['Row ID', 'Order ID', 'Order Date', 'Years', 'Months', 'Days', 'Date', 'DayOfMonth', 'Ship Date', 'Ship Mode',\n",
    "       'Customer ID', 'Customer Name', 'Segment', 'Country', 'City', 'State',\n",
    "       'Postal Code', 'Region', 'Product ID', 'Category', 'Sub-Category',\n",
    "       'Product Name', 'Sales', 'Quantity', 'Discount', 'Profit']]\n",
    "\n",
    "data.head()"
   ]
  },
  {
   "cell_type": "markdown",
   "metadata": {},
   "source": [
    "# Exploratory Data Analysis\n",
    "In this EDA, i am going to cover several question below:\n",
    "\n",
    "1. Which Months generate the highest Order and Sales?\n",
    "2. Which Day of a week generate the highest Order and Sales?\n",
    "3. Which Date contributes the highest Sales?\n",
    "5. How does each country contributes to the sales? \n",
    "6. How does the Discount influence the business performance?"
   ]
  },
  {
   "cell_type": "code",
   "execution_count": 20,
   "metadata": {},
   "outputs": [
    {
     "name": "stdout",
     "output_type": "stream",
     "text": [
      "This dataset contain information from 2014-01-21 to 2016-11-08\n"
     ]
    }
   ],
   "source": [
    "print(\"This dataset contain information from {} to {}\".format(data['Date'].unique()[-1], data['Date'].unique()[0]))"
   ]
  },
  {
   "cell_type": "code",
   "execution_count": 21,
   "metadata": {},
   "outputs": [
    {
     "data": {
      "text/html": [
       "<div>\n",
       "<style scoped>\n",
       "    .dataframe tbody tr th:only-of-type {\n",
       "        vertical-align: middle;\n",
       "    }\n",
       "\n",
       "    .dataframe tbody tr th {\n",
       "        vertical-align: top;\n",
       "    }\n",
       "\n",
       "    .dataframe thead th {\n",
       "        text-align: right;\n",
       "    }\n",
       "</style>\n",
       "<table border=\"1\" class=\"dataframe\">\n",
       "  <thead>\n",
       "    <tr style=\"text-align: right;\">\n",
       "      <th></th>\n",
       "      <th>Order</th>\n",
       "      <th>Sales</th>\n",
       "    </tr>\n",
       "  </thead>\n",
       "  <tbody>\n",
       "    <tr>\n",
       "      <th>[2014]</th>\n",
       "      <td>969</td>\n",
       "      <td>484247.4981</td>\n",
       "    </tr>\n",
       "    <tr>\n",
       "      <th>[2015]</th>\n",
       "      <td>1038</td>\n",
       "      <td>470532.5090</td>\n",
       "    </tr>\n",
       "    <tr>\n",
       "      <th>[2016]</th>\n",
       "      <td>1315</td>\n",
       "      <td>609205.5980</td>\n",
       "    </tr>\n",
       "    <tr>\n",
       "      <th>[2017]</th>\n",
       "      <td>1687</td>\n",
       "      <td>733215.2552</td>\n",
       "    </tr>\n",
       "  </tbody>\n",
       "</table>\n",
       "</div>"
      ],
      "text/plain": [
       "        Order        Sales\n",
       "[2014]    969  484247.4981\n",
       "[2015]   1038  470532.5090\n",
       "[2016]   1315  609205.5980\n",
       "[2017]   1687  733215.2552"
      ]
     },
     "execution_count": 21,
     "metadata": {},
     "output_type": "execute_result"
    }
   ],
   "source": [
    "ord_sales_year = pd.DataFrame({'Order': data.groupby('Order ID')['Years'].unique().value_counts().sort_index(), \n",
    "                              'Sales' : data.groupby('Years')['Sales'].sum()})\n",
    "ord_sales_year"
   ]
  },
  {
   "cell_type": "code",
   "execution_count": 22,
   "metadata": {},
   "outputs": [
    {
     "data": {
      "image/png": "[encoded data removed]",
      "text/plain": [
       "<Figure size 1080x432 with 2 Axes>"
      ]
     },
     "metadata": {
      "needs_background": "light"
     },
     "output_type": "display_data"
    }
   ],
   "source": [
    "fig, ax1 = plt.subplots(figsize=(15, 6))\n",
    "ax1 = ord_sales_year['Order'].plot(kind='bar', color='g', label='Orders')\n",
    "ax2 = ord_sales_year['Sales'].plot(kind='line', marker='d', secondary_y=True, label = 'Sales')\n",
    "ax1.set_xlabel('Year',fontsize=15)\n",
    "ax1.set_ylabel('Orders',fontsize=15)\n",
    "ax2.set_ylabel('Sales',fontsize=15)\n",
    "ax1.set_title('Sales and Orders For different Years',fontsize=15)\n",
    "\n",
    "fig.legend(loc=\"upper left\", bbox_to_anchor=(0.02,0.96), bbox_transform=ax1.transAxes)\n",
    "plt.show()"
   ]
  },
  {
   "cell_type": "code",
   "execution_count": null,
   "metadata": {},
   "outputs": [],
   "source": [
    "ord_prof_year = pd.DataFrame({'Order': data.groupby('Order ID')['Years'].unique().value_counts().sort_index(), \n",
    "                              'Profitability' : data.groupby('Years')['Profit'].sum()})\n",
    "ord_prof_year"
   ]
  },
  {
   "cell_type": "code",
   "execution_count": null,
   "metadata": {},
   "outputs": [],
   "source": [
    "fig, ax1 = plt.subplots(figsize=(15, 6))\n",
    "ax1 = ord_prof_year['Order'].plot(kind='bar', color='g', label='Orders')\n",
    "ax2 = ord_prof_year['Profitability'].plot(kind='line', marker='d', secondary_y=True, label = 'Revenue')\n",
    "ax1.set_xlabel('Year',fontsize=15)\n",
    "ax1.set_ylabel('Orders',fontsize=15)\n",
    "ax2.set_ylabel('Revenue',fontsize=15)\n",
    "ax1.set_title('Profitability and Orders For different Years',fontsize=15)\n",
    "\n",
    "fig.legend(loc=\"upper left\", bbox_to_anchor=(0.02,0.96), bbox_transform=ax1.transAxes)\n",
    "plt.show()"
   ]
  },
  {
   "cell_type": "code",
   "execution_count": 23,
   "metadata": {},
   "outputs": [
    {
     "data": {
      "text/html": [
       "<div>\n",
       "<style scoped>\n",
       "    .dataframe tbody tr th:only-of-type {\n",
       "        vertical-align: middle;\n",
       "    }\n",
       "\n",
       "    .dataframe tbody tr th {\n",
       "        vertical-align: top;\n",
       "    }\n",
       "\n",
       "    .dataframe thead th {\n",
       "        text-align: right;\n",
       "    }\n",
       "</style>\n",
       "<table border=\"1\" class=\"dataframe\">\n",
       "  <thead>\n",
       "    <tr style=\"text-align: right;\">\n",
       "      <th></th>\n",
       "      <th>Order</th>\n",
       "      <th>Sales</th>\n",
       "    </tr>\n",
       "    <tr>\n",
       "      <th>Months</th>\n",
       "      <th></th>\n",
       "      <th></th>\n",
       "    </tr>\n",
       "  </thead>\n",
       "  <tbody>\n",
       "    <tr>\n",
       "      <th>[April]</th>\n",
       "      <td>343</td>\n",
       "      <td>137762.1286</td>\n",
       "    </tr>\n",
       "    <tr>\n",
       "      <th>[August]</th>\n",
       "      <td>341</td>\n",
       "      <td>159044.0630</td>\n",
       "    </tr>\n",
       "    <tr>\n",
       "      <th>[December]</th>\n",
       "      <td>702</td>\n",
       "      <td>325293.5035</td>\n",
       "    </tr>\n",
       "    <tr>\n",
       "      <th>[February]</th>\n",
       "      <td>162</td>\n",
       "      <td>59751.2514</td>\n",
       "    </tr>\n",
       "    <tr>\n",
       "      <th>[January]</th>\n",
       "      <td>178</td>\n",
       "      <td>94924.8356</td>\n",
       "    </tr>\n",
       "    <tr>\n",
       "      <th>[July]</th>\n",
       "      <td>338</td>\n",
       "      <td>147238.0970</td>\n",
       "    </tr>\n",
       "    <tr>\n",
       "      <th>[June]</th>\n",
       "      <td>364</td>\n",
       "      <td>152718.6793</td>\n",
       "    </tr>\n",
       "    <tr>\n",
       "      <th>[March]</th>\n",
       "      <td>354</td>\n",
       "      <td>205005.4888</td>\n",
       "    </tr>\n",
       "    <tr>\n",
       "      <th>[May]</th>\n",
       "      <td>369</td>\n",
       "      <td>155028.8117</td>\n",
       "    </tr>\n",
       "    <tr>\n",
       "      <th>[November]</th>\n",
       "      <td>753</td>\n",
       "      <td>352461.0710</td>\n",
       "    </tr>\n",
       "    <tr>\n",
       "      <th>[October]</th>\n",
       "      <td>417</td>\n",
       "      <td>200322.9847</td>\n",
       "    </tr>\n",
       "    <tr>\n",
       "      <th>[September]</th>\n",
       "      <td>688</td>\n",
       "      <td>307649.9457</td>\n",
       "    </tr>\n",
       "  </tbody>\n",
       "</table>\n",
       "</div>"
      ],
      "text/plain": [
       "             Order        Sales\n",
       "Months                         \n",
       "[April]        343  137762.1286\n",
       "[August]       341  159044.0630\n",
       "[December]     702  325293.5035\n",
       "[February]     162   59751.2514\n",
       "[January]      178   94924.8356\n",
       "[July]         338  147238.0970\n",
       "[June]         364  152718.6793\n",
       "[March]        354  205005.4888\n",
       "[May]          369  155028.8117\n",
       "[November]     753  352461.0710\n",
       "[October]      417  200322.9847\n",
       "[September]    688  307649.9457"
      ]
     },
     "execution_count": 23,
     "metadata": {},
     "output_type": "execute_result"
    }
   ],
   "source": [
    "ord_sales_month = pd.DataFrame({'Order': data.groupby('Order ID')['Months'].unique().value_counts().sort_index(), \n",
    "                              'Sales' : data.groupby('Months')['Sales'].sum()})\n",
    "ord_sales_month"
   ]
  },
  {
   "cell_type": "code",
   "execution_count": 29,
   "metadata": {},
   "outputs": [
    {
     "data": {
      "image/png": "[encoded data removed]",
      "text/plain": [
       "<Figure size 1080x432 with 2 Axes>"
      ]
     },
     "metadata": {
      "needs_background": "light"
     },
     "output_type": "display_data"
    }
   ],
   "source": [
    "fig, ax1 = plt.subplots(figsize=(15, 6))\n",
    "ax1 = ord_sales_month['Order'].plot(kind='bar', color='g', label='Orders')\n",
    "ax2 = ord_sales_month['Sales'].plot(kind='line', marker='d', secondary_y=True, label = 'Sales')\n",
    "ax1.set_xlabel('Month',fontsize=15)\n",
    "ax1.set_ylabel('Orders',fontsize=15)\n",
    "ax2.set_ylabel('Sales',fontsize=15)\n",
    "ax1.set_title('Sales and Orders For different Months (1st January 2014 - 9th Dec 2016)',fontsize=15)\n",
    "ax1.set_xticklabels(('Jan','Feb','Mar','Apr','May','Jun',\n",
    "                    'July','Aug','Sep','Oct','Nov','Dec'), rotation='horizontal', fontsize=13)\n",
    "fig.legend(loc=\"upper left\", bbox_to_anchor=(0.02,0.96), bbox_transform=ax1.transAxes)\n",
    "plt.show()"
   ]
  },
  {
   "cell_type": "code",
   "execution_count": null,
   "metadata": {},
   "outputs": [],
   "source": [
    "ord_prof_month = pd.DataFrame({'Order': data.groupby('Order ID')['Months'].unique().value_counts().sort_index(), \n",
    "                              'Profitability' : data.groupby('Months')['Profit'].sum()})\n",
    "ord_prof_month"
   ]
  },
  {
   "cell_type": "code",
   "execution_count": null,
   "metadata": {},
   "outputs": [],
   "source": [
    "fig, ax1 = plt.subplots(figsize=(15, 6))\n",
    "ax1 = ord_prof_month['Order'].plot(kind='bar', color='g', label='Orders')\n",
    "ax2 = ord_prof_month['Profitability'].plot(kind='line', marker='d', secondary_y=True, label = 'Revenue')\n",
    "ax1.set_xlabel('Month',fontsize=15)\n",
    "ax1.set_ylabel('Orders',fontsize=15)\n",
    "ax2.set_ylabel('Revenue',fontsize=15)\n",
    "ax1.set_title('Revenue and Orders For different Months (1st January 2014 - 9th Dec 2016)',fontsize=15)\n",
    "ax1.set_xticklabels(('Jan','Feb','Mar','Apr','May','Jun',\n",
    "                    'July','Aug','Sep','Oct','Nov','Dec'), rotation='horizontal', fontsize=13)\n",
    "fig.legend(loc=\"upper left\", bbox_to_anchor=(0.02,0.96), bbox_transform=ax1.transAxes)\n",
    "plt.show()"
   ]
  },
  {
   "cell_type": "code",
   "execution_count": 27,
   "metadata": {},
   "outputs": [
    {
     "data": {
      "text/html": [
       "<div>\n",
       "<style scoped>\n",
       "    .dataframe tbody tr th:only-of-type {\n",
       "        vertical-align: middle;\n",
       "    }\n",
       "\n",
       "    .dataframe tbody tr th {\n",
       "        vertical-align: top;\n",
       "    }\n",
       "\n",
       "    .dataframe thead th {\n",
       "        text-align: right;\n",
       "    }\n",
       "</style>\n",
       "<table border=\"1\" class=\"dataframe\">\n",
       "  <thead>\n",
       "    <tr style=\"text-align: right;\">\n",
       "      <th></th>\n",
       "      <th>Order</th>\n",
       "      <th>Sales</th>\n",
       "    </tr>\n",
       "    <tr>\n",
       "      <th>Days</th>\n",
       "      <th></th>\n",
       "      <th></th>\n",
       "    </tr>\n",
       "  </thead>\n",
       "  <tbody>\n",
       "    <tr>\n",
       "      <th>[Friday]</th>\n",
       "      <td>916</td>\n",
       "      <td>427692.2593</td>\n",
       "    </tr>\n",
       "    <tr>\n",
       "      <th>[Monday]</th>\n",
       "      <td>920</td>\n",
       "      <td>428937.8157</td>\n",
       "    </tr>\n",
       "    <tr>\n",
       "      <th>[Saturday]</th>\n",
       "      <td>837</td>\n",
       "      <td>357984.6830</td>\n",
       "    </tr>\n",
       "    <tr>\n",
       "      <th>[Sunday]</th>\n",
       "      <td>850</td>\n",
       "      <td>385353.8464</td>\n",
       "    </tr>\n",
       "    <tr>\n",
       "      <th>[Thursday]</th>\n",
       "      <td>746</td>\n",
       "      <td>321965.7785</td>\n",
       "    </tr>\n",
       "    <tr>\n",
       "      <th>[Tuesday]</th>\n",
       "      <td>558</td>\n",
       "      <td>287209.5022</td>\n",
       "    </tr>\n",
       "    <tr>\n",
       "      <th>[Wednesday]</th>\n",
       "      <td>182</td>\n",
       "      <td>88056.9752</td>\n",
       "    </tr>\n",
       "  </tbody>\n",
       "</table>\n",
       "</div>"
      ],
      "text/plain": [
       "             Order        Sales\n",
       "Days                           \n",
       "[Friday]       916  427692.2593\n",
       "[Monday]       920  428937.8157\n",
       "[Saturday]     837  357984.6830\n",
       "[Sunday]       850  385353.8464\n",
       "[Thursday]     746  321965.7785\n",
       "[Tuesday]      558  287209.5022\n",
       "[Wednesday]    182   88056.9752"
      ]
     },
     "execution_count": 27,
     "metadata": {},
     "output_type": "execute_result"
    }
   ],
   "source": [
    "ord_sales_day = pd.DataFrame({'Order': data.groupby('Order ID')['Days'].unique().value_counts().sort_index(), \n",
    "                              'Sales' : data.groupby('Days')['Sales'].sum()})\n",
    "ord_sales_day"
   ]
  },
  {
   "cell_type": "code",
   "execution_count": 32,
   "metadata": {},
   "outputs": [
    {
     "data": {
      "image/png": "[encoded data removed]",
      "text/plain": [
       "<Figure size 1080x432 with 2 Axes>"
      ]
     },
     "metadata": {
      "needs_background": "light"
     },
     "output_type": "display_data"
    }
   ],
   "source": [
    "fig, ax1 = plt.subplots(figsize=(15, 6))\n",
    "ax1 = ord_sales_day['Order'].plot(kind='bar', color='g', label='Orders')\n",
    "ax2 = ord_sales_day['Sales'].plot(kind='line', marker='d', secondary_y=True, label = 'Sales')\n",
    "ax1.set_xlabel('Days',fontsize=15)\n",
    "ax1.set_ylabel('Orders',fontsize=15)\n",
    "ax2.set_ylabel('Sales',fontsize=15)\n",
    "ax1.set_title('Sales and Orders For Each Days Of A Week (1st January 2014 - 9th Dec 2016))',fontsize=15)\n",
    "\n",
    "fig.legend(loc=\"upper left\", bbox_to_anchor=(0.02,0.96), bbox_transform=ax1.transAxes)\n",
    "plt.show()"
   ]
  },
  {
   "cell_type": "code",
   "execution_count": 33,
   "metadata": {},
   "outputs": [
    {
     "name": "stderr",
     "output_type": "stream",
     "text": [
      "C:\\Users\\Performance Mngmt\\anaconda3\\lib\\site-packages\\seaborn\\_decorators.py:36: FutureWarning: Pass the following variable as a keyword arg: x. From version 0.12, the only valid positional argument will be `data`, and passing other arguments without an explicit keyword will result in an error or misinterpretation.\n",
      "  warnings.warn(\n",
      "C:\\Users\\Performance Mngmt\\anaconda3\\lib\\site-packages\\seaborn\\categorical.py:1604: MatplotlibDeprecationWarning: Case-insensitive properties were deprecated in 3.3 and support will be removed two minor releases later\n",
      "  barfunc(barpos, self.statistic, self.width,\n"
     ]
    },
    {
     "ename": "AttributeError",
     "evalue": "'Rectangle' object has no property 'order'",
     "output_type": "error",
     "traceback": [
      "\u001b[1;31m---------------------------------------------------------------------------\u001b[0m",
      "\u001b[1;31mAttributeError\u001b[0m                            Traceback (most recent call last)",
      "\u001b[1;32m<ipython-input-33-40c3fb4295e0>\u001b[0m in \u001b[0;36m<module>\u001b[1;34m\u001b[0m\n\u001b[0;32m      1\u001b[0m \u001b[0mplt\u001b[0m\u001b[1;33m.\u001b[0m\u001b[0mfigure\u001b[0m\u001b[1;33m(\u001b[0m\u001b[0mfigsize\u001b[0m \u001b[1;33m=\u001b[0m \u001b[1;33m(\u001b[0m\u001b[1;36m8\u001b[0m\u001b[1;33m,\u001b[0m \u001b[1;36m5\u001b[0m\u001b[1;33m)\u001b[0m\u001b[1;33m)\u001b[0m\u001b[1;33m\u001b[0m\u001b[1;33m\u001b[0m\u001b[0m\n\u001b[1;32m----> 2\u001b[1;33m \u001b[0msns\u001b[0m\u001b[1;33m.\u001b[0m\u001b[0mcountplot\u001b[0m\u001b[1;33m(\u001b[0m\u001b[0mdata\u001b[0m\u001b[1;33m[\u001b[0m\u001b[1;34m'Days'\u001b[0m\u001b[1;33m]\u001b[0m\u001b[1;33m,\u001b[0m \u001b[0mOrder\u001b[0m \u001b[1;33m=\u001b[0m \u001b[1;33m[\u001b[0m\u001b[1;34m'Monday'\u001b[0m\u001b[1;33m,\u001b[0m \u001b[1;34m'Tuesday'\u001b[0m\u001b[1;33m,\u001b[0m \u001b[1;34m'Wednesday'\u001b[0m\u001b[1;33m,\u001b[0m \u001b[1;34m'Thursday'\u001b[0m\u001b[1;33m,\u001b[0m \u001b[1;34m'Friday'\u001b[0m\u001b[1;33m,\u001b[0m \u001b[1;34m'Saturday'\u001b[0m\u001b[1;33m,\u001b[0m \u001b[1;34m'Sunday'\u001b[0m\u001b[1;33m]\u001b[0m\u001b[1;33m)\u001b[0m\u001b[1;33m\u001b[0m\u001b[1;33m\u001b[0m\u001b[0m\n\u001b[0m\u001b[0;32m      3\u001b[0m \u001b[0mplt\u001b[0m\u001b[1;33m.\u001b[0m\u001b[0mtitle\u001b[0m\u001b[1;33m(\u001b[0m\u001b[1;34m'Amount of Transactions based on Purchase Day'\u001b[0m\u001b[1;33m)\u001b[0m\u001b[1;33m\u001b[0m\u001b[1;33m\u001b[0m\u001b[0m\n",
      "\u001b[1;32m~\\anaconda3\\lib\\site-packages\\seaborn\\_decorators.py\u001b[0m in \u001b[0;36minner_f\u001b[1;34m(*args, **kwargs)\u001b[0m\n\u001b[0;32m     44\u001b[0m             )\n\u001b[0;32m     45\u001b[0m         \u001b[0mkwargs\u001b[0m\u001b[1;33m.\u001b[0m\u001b[0mupdate\u001b[0m\u001b[1;33m(\u001b[0m\u001b[1;33m{\u001b[0m\u001b[0mk\u001b[0m\u001b[1;33m:\u001b[0m \u001b[0marg\u001b[0m \u001b[1;32mfor\u001b[0m \u001b[0mk\u001b[0m\u001b[1;33m,\u001b[0m \u001b[0marg\u001b[0m \u001b[1;32min\u001b[0m \u001b[0mzip\u001b[0m\u001b[1;33m(\u001b[0m\u001b[0msig\u001b[0m\u001b[1;33m.\u001b[0m\u001b[0mparameters\u001b[0m\u001b[1;33m,\u001b[0m \u001b[0margs\u001b[0m\u001b[1;33m)\u001b[0m\u001b[1;33m}\u001b[0m\u001b[1;33m)\u001b[0m\u001b[1;33m\u001b[0m\u001b[1;33m\u001b[0m\u001b[0m\n\u001b[1;32m---> 46\u001b[1;33m         \u001b[1;32mreturn\u001b[0m \u001b[0mf\u001b[0m\u001b[1;33m(\u001b[0m\u001b[1;33m**\u001b[0m\u001b[0mkwargs\u001b[0m\u001b[1;33m)\u001b[0m\u001b[1;33m\u001b[0m\u001b[1;33m\u001b[0m\u001b[0m\n\u001b[0m\u001b[0;32m     47\u001b[0m     \u001b[1;32mreturn\u001b[0m \u001b[0minner_f\u001b[0m\u001b[1;33m\u001b[0m\u001b[1;33m\u001b[0m\u001b[0m\n\u001b[0;32m     48\u001b[0m \u001b[1;33m\u001b[0m\u001b[0m\n",
      "\u001b[1;32m~\\anaconda3\\lib\\site-packages\\seaborn\\categorical.py\u001b[0m in \u001b[0;36mcountplot\u001b[1;34m(x, y, hue, data, order, hue_order, orient, color, palette, saturation, dodge, ax, **kwargs)\u001b[0m\n\u001b[0;32m   3595\u001b[0m         \u001b[0max\u001b[0m \u001b[1;33m=\u001b[0m \u001b[0mplt\u001b[0m\u001b[1;33m.\u001b[0m\u001b[0mgca\u001b[0m\u001b[1;33m(\u001b[0m\u001b[1;33m)\u001b[0m\u001b[1;33m\u001b[0m\u001b[1;33m\u001b[0m\u001b[0m\n\u001b[0;32m   3596\u001b[0m \u001b[1;33m\u001b[0m\u001b[0m\n\u001b[1;32m-> 3597\u001b[1;33m     \u001b[0mplotter\u001b[0m\u001b[1;33m.\u001b[0m\u001b[0mplot\u001b[0m\u001b[1;33m(\u001b[0m\u001b[0max\u001b[0m\u001b[1;33m,\u001b[0m \u001b[0mkwargs\u001b[0m\u001b[1;33m)\u001b[0m\u001b[1;33m\u001b[0m\u001b[1;33m\u001b[0m\u001b[0m\n\u001b[0m\u001b[0;32m   3598\u001b[0m     \u001b[1;32mreturn\u001b[0m \u001b[0max\u001b[0m\u001b[1;33m\u001b[0m\u001b[1;33m\u001b[0m\u001b[0m\n\u001b[0;32m   3599\u001b[0m \u001b[1;33m\u001b[0m\u001b[0m\n",
      "\u001b[1;32m~\\anaconda3\\lib\\site-packages\\seaborn\\categorical.py\u001b[0m in \u001b[0;36mplot\u001b[1;34m(self, ax, bar_kws)\u001b[0m\n\u001b[0;32m   1637\u001b[0m     \u001b[1;32mdef\u001b[0m \u001b[0mplot\u001b[0m\u001b[1;33m(\u001b[0m\u001b[0mself\u001b[0m\u001b[1;33m,\u001b[0m \u001b[0max\u001b[0m\u001b[1;33m,\u001b[0m \u001b[0mbar_kws\u001b[0m\u001b[1;33m)\u001b[0m\u001b[1;33m:\u001b[0m\u001b[1;33m\u001b[0m\u001b[1;33m\u001b[0m\u001b[0m\n\u001b[0;32m   1638\u001b[0m         \u001b[1;34m\"\"\"Make the plot.\"\"\"\u001b[0m\u001b[1;33m\u001b[0m\u001b[1;33m\u001b[0m\u001b[0m\n\u001b[1;32m-> 1639\u001b[1;33m         \u001b[0mself\u001b[0m\u001b[1;33m.\u001b[0m\u001b[0mdraw_bars\u001b[0m\u001b[1;33m(\u001b[0m\u001b[0max\u001b[0m\u001b[1;33m,\u001b[0m \u001b[0mbar_kws\u001b[0m\u001b[1;33m)\u001b[0m\u001b[1;33m\u001b[0m\u001b[1;33m\u001b[0m\u001b[0m\n\u001b[0m\u001b[0;32m   1640\u001b[0m         \u001b[0mself\u001b[0m\u001b[1;33m.\u001b[0m\u001b[0mannotate_axes\u001b[0m\u001b[1;33m(\u001b[0m\u001b[0max\u001b[0m\u001b[1;33m)\u001b[0m\u001b[1;33m\u001b[0m\u001b[1;33m\u001b[0m\u001b[0m\n\u001b[0;32m   1641\u001b[0m         \u001b[1;32mif\u001b[0m \u001b[0mself\u001b[0m\u001b[1;33m.\u001b[0m\u001b[0morient\u001b[0m \u001b[1;33m==\u001b[0m \u001b[1;34m\"h\"\u001b[0m\u001b[1;33m:\u001b[0m\u001b[1;33m\u001b[0m\u001b[1;33m\u001b[0m\u001b[0m\n",
      "\u001b[1;32m~\\anaconda3\\lib\\site-packages\\seaborn\\categorical.py\u001b[0m in \u001b[0;36mdraw_bars\u001b[1;34m(self, ax, kws)\u001b[0m\n\u001b[0;32m   1602\u001b[0m \u001b[1;33m\u001b[0m\u001b[0m\n\u001b[0;32m   1603\u001b[0m             \u001b[1;31m# Draw the bars\u001b[0m\u001b[1;33m\u001b[0m\u001b[1;33m\u001b[0m\u001b[1;33m\u001b[0m\u001b[0m\n\u001b[1;32m-> 1604\u001b[1;33m             barfunc(barpos, self.statistic, self.width,\n\u001b[0m\u001b[0;32m   1605\u001b[0m                     color=self.colors, align=\"center\", **kws)\n\u001b[0;32m   1606\u001b[0m \u001b[1;33m\u001b[0m\u001b[0m\n",
      "\u001b[1;32m~\\anaconda3\\lib\\site-packages\\matplotlib\\__init__.py\u001b[0m in \u001b[0;36minner\u001b[1;34m(ax, data, *args, **kwargs)\u001b[0m\n\u001b[0;32m   1436\u001b[0m     \u001b[1;32mdef\u001b[0m \u001b[0minner\u001b[0m\u001b[1;33m(\u001b[0m\u001b[0max\u001b[0m\u001b[1;33m,\u001b[0m \u001b[1;33m*\u001b[0m\u001b[0margs\u001b[0m\u001b[1;33m,\u001b[0m \u001b[0mdata\u001b[0m\u001b[1;33m=\u001b[0m\u001b[1;32mNone\u001b[0m\u001b[1;33m,\u001b[0m \u001b[1;33m**\u001b[0m\u001b[0mkwargs\u001b[0m\u001b[1;33m)\u001b[0m\u001b[1;33m:\u001b[0m\u001b[1;33m\u001b[0m\u001b[1;33m\u001b[0m\u001b[0m\n\u001b[0;32m   1437\u001b[0m         \u001b[1;32mif\u001b[0m \u001b[0mdata\u001b[0m \u001b[1;32mis\u001b[0m \u001b[1;32mNone\u001b[0m\u001b[1;33m:\u001b[0m\u001b[1;33m\u001b[0m\u001b[1;33m\u001b[0m\u001b[0m\n\u001b[1;32m-> 1438\u001b[1;33m             \u001b[1;32mreturn\u001b[0m \u001b[0mfunc\u001b[0m\u001b[1;33m(\u001b[0m\u001b[0max\u001b[0m\u001b[1;33m,\u001b[0m \u001b[1;33m*\u001b[0m\u001b[0mmap\u001b[0m\u001b[1;33m(\u001b[0m\u001b[0msanitize_sequence\u001b[0m\u001b[1;33m,\u001b[0m \u001b[0margs\u001b[0m\u001b[1;33m)\u001b[0m\u001b[1;33m,\u001b[0m \u001b[1;33m**\u001b[0m\u001b[0mkwargs\u001b[0m\u001b[1;33m)\u001b[0m\u001b[1;33m\u001b[0m\u001b[1;33m\u001b[0m\u001b[0m\n\u001b[0m\u001b[0;32m   1439\u001b[0m \u001b[1;33m\u001b[0m\u001b[0m\n\u001b[0;32m   1440\u001b[0m         \u001b[0mbound\u001b[0m \u001b[1;33m=\u001b[0m \u001b[0mnew_sig\u001b[0m\u001b[1;33m.\u001b[0m\u001b[0mbind\u001b[0m\u001b[1;33m(\u001b[0m\u001b[0max\u001b[0m\u001b[1;33m,\u001b[0m \u001b[1;33m*\u001b[0m\u001b[0margs\u001b[0m\u001b[1;33m,\u001b[0m \u001b[1;33m**\u001b[0m\u001b[0mkwargs\u001b[0m\u001b[1;33m)\u001b[0m\u001b[1;33m\u001b[0m\u001b[1;33m\u001b[0m\u001b[0m\n",
      "\u001b[1;32m~\\anaconda3\\lib\\site-packages\\matplotlib\\axes\\_axes.py\u001b[0m in \u001b[0;36mbar\u001b[1;34m(self, x, height, width, bottom, align, **kwargs)\u001b[0m\n\u001b[0;32m   2486\u001b[0m                 \u001b[0mlabel\u001b[0m\u001b[1;33m=\u001b[0m\u001b[1;34m'_nolegend_'\u001b[0m\u001b[1;33m,\u001b[0m\u001b[1;33m\u001b[0m\u001b[1;33m\u001b[0m\u001b[0m\n\u001b[0;32m   2487\u001b[0m                 )\n\u001b[1;32m-> 2488\u001b[1;33m             \u001b[0mr\u001b[0m\u001b[1;33m.\u001b[0m\u001b[0mupdate\u001b[0m\u001b[1;33m(\u001b[0m\u001b[0mkwargs\u001b[0m\u001b[1;33m)\u001b[0m\u001b[1;33m\u001b[0m\u001b[1;33m\u001b[0m\u001b[0m\n\u001b[0m\u001b[0;32m   2489\u001b[0m             \u001b[0mr\u001b[0m\u001b[1;33m.\u001b[0m\u001b[0mget_path\u001b[0m\u001b[1;33m(\u001b[0m\u001b[1;33m)\u001b[0m\u001b[1;33m.\u001b[0m\u001b[0m_interpolation_steps\u001b[0m \u001b[1;33m=\u001b[0m \u001b[1;36m100\u001b[0m\u001b[1;33m\u001b[0m\u001b[1;33m\u001b[0m\u001b[0m\n\u001b[0;32m   2490\u001b[0m             \u001b[1;32mif\u001b[0m \u001b[0morientation\u001b[0m \u001b[1;33m==\u001b[0m \u001b[1;34m'vertical'\u001b[0m\u001b[1;33m:\u001b[0m\u001b[1;33m\u001b[0m\u001b[1;33m\u001b[0m\u001b[0m\n",
      "\u001b[1;32m~\\anaconda3\\lib\\site-packages\\matplotlib\\artist.py\u001b[0m in \u001b[0;36mupdate\u001b[1;34m(self, props)\u001b[0m\n\u001b[0;32m    994\u001b[0m                     \u001b[0mfunc\u001b[0m \u001b[1;33m=\u001b[0m \u001b[0mgetattr\u001b[0m\u001b[1;33m(\u001b[0m\u001b[0mself\u001b[0m\u001b[1;33m,\u001b[0m \u001b[1;34mf\"set_{k}\"\u001b[0m\u001b[1;33m,\u001b[0m \u001b[1;32mNone\u001b[0m\u001b[1;33m)\u001b[0m\u001b[1;33m\u001b[0m\u001b[1;33m\u001b[0m\u001b[0m\n\u001b[0;32m    995\u001b[0m                     \u001b[1;32mif\u001b[0m \u001b[1;32mnot\u001b[0m \u001b[0mcallable\u001b[0m\u001b[1;33m(\u001b[0m\u001b[0mfunc\u001b[0m\u001b[1;33m)\u001b[0m\u001b[1;33m:\u001b[0m\u001b[1;33m\u001b[0m\u001b[1;33m\u001b[0m\u001b[0m\n\u001b[1;32m--> 996\u001b[1;33m                         raise AttributeError(f\"{type(self).__name__!r} object \"\n\u001b[0m\u001b[0;32m    997\u001b[0m                                              f\"has no property {k!r}\")\n\u001b[0;32m    998\u001b[0m                     \u001b[0mret\u001b[0m\u001b[1;33m.\u001b[0m\u001b[0mappend\u001b[0m\u001b[1;33m(\u001b[0m\u001b[0mfunc\u001b[0m\u001b[1;33m(\u001b[0m\u001b[0mv\u001b[0m\u001b[1;33m)\u001b[0m\u001b[1;33m)\u001b[0m\u001b[1;33m\u001b[0m\u001b[1;33m\u001b[0m\u001b[0m\n",
      "\u001b[1;31mAttributeError\u001b[0m: 'Rectangle' object has no property 'order'"
     ]
    },
    {
     "data": {
      "image/png": "[encoded data removed]",
      "text/plain": [
       "<Figure size 576x360 with 1 Axes>"
      ]
     },
     "metadata": {
      "needs_background": "light"
     },
     "output_type": "display_data"
    }
   ],
   "source": [
    "plt.figure(figsize = (8, 5))\n",
    "sns.countplot(data['Days'], Order = ['Monday', 'Tuesday', 'Wednesday', 'Thursday', 'Friday', 'Saturday', 'Sunday'])\n",
    "plt.title('Amount of Transactions based on Purchase Day')"
   ]
  },
  {
   "cell_type": "code",
   "execution_count": null,
   "metadata": {},
   "outputs": [],
   "source": [
    "ord_prof_day = pd.DataFrame({'Order': data.groupby('Order ID')['Days'].unique().value_counts().sort_index(), \n",
    "                              'Profitability' : data.groupby('Days')['Profit'].sum()})\n",
    "ord_prof_day"
   ]
  },
  {
   "cell_type": "code",
   "execution_count": null,
   "metadata": {},
   "outputs": [],
   "source": [
    "fig, ax1 = plt.subplots(figsize=(15, 6))\n",
    "ax1 = ord_prof_day['Order'].plot(kind='bar', color='g', label='Orders')\n",
    "ax2 = ord_prof_day['Profitability'].plot(kind='line', marker='d', secondary_y=True, label = 'Revenue')\n",
    "ax1.set_xlabel('Days',fontsize=15)\n",
    "ax1.set_ylabel('Orders',fontsize=15)\n",
    "ax2.set_ylabel('Revenue',fontsize=15)\n",
    "ax1.set_title('Revenue and Orders For Each Days Of A Week (1st January 2014 - 9th Dec 2016))',fontsize=15)\n",
    "ax1.set_xticklabels(('Monday','Tuesday','Wednesday','Thursday','Friday', 'Saturday', 'Sunday'), \n",
    "                    rotation='horizontal', fontsize=13)\n",
    "fig.legend(loc=\"upper left\", bbox_to_anchor=(0.02,0.96), bbox_transform=ax1.transAxes)\n",
    "plt.show()"
   ]
  },
  {
   "cell_type": "markdown",
   "metadata": {},
   "source": [
    "## 3. Which Date contributes the highest sales?"
   ]
  },
  {
   "cell_type": "code",
   "execution_count": 26,
   "metadata": {},
   "outputs": [
    {
     "data": {
      "text/html": [
       "<div>\n",
       "<style scoped>\n",
       "    .dataframe tbody tr th:only-of-type {\n",
       "        vertical-align: middle;\n",
       "    }\n",
       "\n",
       "    .dataframe tbody tr th {\n",
       "        vertical-align: top;\n",
       "    }\n",
       "\n",
       "    .dataframe thead th {\n",
       "        text-align: right;\n",
       "    }\n",
       "</style>\n",
       "<table border=\"1\" class=\"dataframe\">\n",
       "  <thead>\n",
       "    <tr style=\"text-align: right;\">\n",
       "      <th></th>\n",
       "      <th>Order</th>\n",
       "      <th>Sales</th>\n",
       "    </tr>\n",
       "  </thead>\n",
       "  <tbody>\n",
       "    <tr>\n",
       "      <th>[1]</th>\n",
       "      <td>165</td>\n",
       "      <td>95524.5664</td>\n",
       "    </tr>\n",
       "    <tr>\n",
       "      <th>[2]</th>\n",
       "      <td>179</td>\n",
       "      <td>105139.1240</td>\n",
       "    </tr>\n",
       "    <tr>\n",
       "      <th>[3]</th>\n",
       "      <td>191</td>\n",
       "      <td>72319.9246</td>\n",
       "    </tr>\n",
       "    <tr>\n",
       "      <th>[4]</th>\n",
       "      <td>159</td>\n",
       "      <td>68162.3390</td>\n",
       "    </tr>\n",
       "    <tr>\n",
       "      <th>[5]</th>\n",
       "      <td>179</td>\n",
       "      <td>64520.5088</td>\n",
       "    </tr>\n",
       "    <tr>\n",
       "      <th>[6]</th>\n",
       "      <td>147</td>\n",
       "      <td>53306.8580</td>\n",
       "    </tr>\n",
       "    <tr>\n",
       "      <th>[7]</th>\n",
       "      <td>159</td>\n",
       "      <td>62610.9065</td>\n",
       "    </tr>\n",
       "    <tr>\n",
       "      <th>[8]</th>\n",
       "      <td>172</td>\n",
       "      <td>101577.9506</td>\n",
       "    </tr>\n",
       "    <tr>\n",
       "      <th>[9]</th>\n",
       "      <td>167</td>\n",
       "      <td>66582.3650</td>\n",
       "    </tr>\n",
       "    <tr>\n",
       "      <th>[10]</th>\n",
       "      <td>163</td>\n",
       "      <td>62993.8410</td>\n",
       "    </tr>\n",
       "    <tr>\n",
       "      <th>[11]</th>\n",
       "      <td>166</td>\n",
       "      <td>69615.2315</td>\n",
       "    </tr>\n",
       "    <tr>\n",
       "      <th>[12]</th>\n",
       "      <td>165</td>\n",
       "      <td>65563.6962</td>\n",
       "    </tr>\n",
       "    <tr>\n",
       "      <th>[13]</th>\n",
       "      <td>163</td>\n",
       "      <td>80023.8444</td>\n",
       "    </tr>\n",
       "    <tr>\n",
       "      <th>[14]</th>\n",
       "      <td>164</td>\n",
       "      <td>71955.1205</td>\n",
       "    </tr>\n",
       "    <tr>\n",
       "      <th>[15]</th>\n",
       "      <td>142</td>\n",
       "      <td>58147.9030</td>\n",
       "    </tr>\n",
       "    <tr>\n",
       "      <th>[16]</th>\n",
       "      <td>143</td>\n",
       "      <td>73053.2175</td>\n",
       "    </tr>\n",
       "    <tr>\n",
       "      <th>[17]</th>\n",
       "      <td>159</td>\n",
       "      <td>112155.1402</td>\n",
       "    </tr>\n",
       "    <tr>\n",
       "      <th>[18]</th>\n",
       "      <td>153</td>\n",
       "      <td>90737.9825</td>\n",
       "    </tr>\n",
       "    <tr>\n",
       "      <th>[19]</th>\n",
       "      <td>172</td>\n",
       "      <td>77927.4978</td>\n",
       "    </tr>\n",
       "    <tr>\n",
       "      <th>[20]</th>\n",
       "      <td>181</td>\n",
       "      <td>72323.9866</td>\n",
       "    </tr>\n",
       "    <tr>\n",
       "      <th>[21]</th>\n",
       "      <td>187</td>\n",
       "      <td>95784.2468</td>\n",
       "    </tr>\n",
       "    <tr>\n",
       "      <th>[22]</th>\n",
       "      <td>163</td>\n",
       "      <td>66477.0030</td>\n",
       "    </tr>\n",
       "    <tr>\n",
       "      <th>[23]</th>\n",
       "      <td>167</td>\n",
       "      <td>88785.5690</td>\n",
       "    </tr>\n",
       "    <tr>\n",
       "      <th>[24]</th>\n",
       "      <td>174</td>\n",
       "      <td>77519.0850</td>\n",
       "    </tr>\n",
       "    <tr>\n",
       "      <th>[25]</th>\n",
       "      <td>169</td>\n",
       "      <td>82401.2058</td>\n",
       "    </tr>\n",
       "    <tr>\n",
       "      <th>[26]</th>\n",
       "      <td>185</td>\n",
       "      <td>78544.1580</td>\n",
       "    </tr>\n",
       "    <tr>\n",
       "      <th>[27]</th>\n",
       "      <td>142</td>\n",
       "      <td>59240.6431</td>\n",
       "    </tr>\n",
       "    <tr>\n",
       "      <th>[28]</th>\n",
       "      <td>141</td>\n",
       "      <td>64838.4626</td>\n",
       "    </tr>\n",
       "    <tr>\n",
       "      <th>[29]</th>\n",
       "      <td>129</td>\n",
       "      <td>44806.6867</td>\n",
       "    </tr>\n",
       "    <tr>\n",
       "      <th>[30]</th>\n",
       "      <td>169</td>\n",
       "      <td>64858.2714</td>\n",
       "    </tr>\n",
       "    <tr>\n",
       "      <th>[31]</th>\n",
       "      <td>94</td>\n",
       "      <td>49703.5248</td>\n",
       "    </tr>\n",
       "  </tbody>\n",
       "</table>\n",
       "</div>"
      ],
      "text/plain": [
       "      Order        Sales\n",
       "[1]     165   95524.5664\n",
       "[2]     179  105139.1240\n",
       "[3]     191   72319.9246\n",
       "[4]     159   68162.3390\n",
       "[5]     179   64520.5088\n",
       "[6]     147   53306.8580\n",
       "[7]     159   62610.9065\n",
       "[8]     172  101577.9506\n",
       "[9]     167   66582.3650\n",
       "[10]    163   62993.8410\n",
       "[11]    166   69615.2315\n",
       "[12]    165   65563.6962\n",
       "[13]    163   80023.8444\n",
       "[14]    164   71955.1205\n",
       "[15]    142   58147.9030\n",
       "[16]    143   73053.2175\n",
       "[17]    159  112155.1402\n",
       "[18]    153   90737.9825\n",
       "[19]    172   77927.4978\n",
       "[20]    181   72323.9866\n",
       "[21]    187   95784.2468\n",
       "[22]    163   66477.0030\n",
       "[23]    167   88785.5690\n",
       "[24]    174   77519.0850\n",
       "[25]    169   82401.2058\n",
       "[26]    185   78544.1580\n",
       "[27]    142   59240.6431\n",
       "[28]    141   64838.4626\n",
       "[29]    129   44806.6867\n",
       "[30]    169   64858.2714\n",
       "[31]     94   49703.5248"
      ]
     },
     "execution_count": 26,
     "metadata": {},
     "output_type": "execute_result"
    }
   ],
   "source": [
    "ord_sales_date = pd.DataFrame({'Order': data.groupby('Order ID')['DayOfMonth'].unique().value_counts().sort_index(), \n",
    "                             'Sales' : data.groupby('DayOfMonth')['Sales'].sum()})\n",
    "ord_sales_date\n"
   ]
  },
  {
   "cell_type": "code",
   "execution_count": null,
   "metadata": {},
   "outputs": [],
   "source": [
    "fig, ax1 = plt.subplots(figsize=(15, 6))\n",
    "ax1 = ord_sales_date['Order'].plot(kind='bar', color='g', label='Orders')\n",
    "ax2 = ord_sales_date['Sales'].plot(kind='line', marker='d', secondary_y=True, label = 'Sales')\n",
    "ax1.set_xlabel('Date',fontsize=15)\n",
    "ax1.set_ylabel('Orders',fontsize=15)\n",
    "ax2.set_ylabel('Sales',fontsize=15)\n",
    "ax1.set_title('Sales and Orders For Each Date(1st January 2014 - 9th Dec 2016)',fontsize=15)\n",
    "fig.legend(loc=\"upper left\", bbox_to_anchor=(0.02,0.96), bbox_transform=ax1.transAxes)\n",
    "plt.show()"
   ]
  },
  {
   "cell_type": "code",
   "execution_count": null,
   "metadata": {},
   "outputs": [],
   "source": [
    "ord_prof_date = pd.DataFrame({'Order': data.groupby('Order ID')['DayOfMonth'].unique().value_counts().sort_index(), \n",
    "                             'Profitability' : data.groupby('DayOfMonth')['Profit'].sum()})\n",
    "ord_prof_date\n"
   ]
  },
  {
   "cell_type": "code",
   "execution_count": null,
   "metadata": {},
   "outputs": [],
   "source": [
    "fig, ax1 = plt.subplots(figsize=(15, 6))\n",
    "ax1 = ord_prof_date['Order'].plot(kind='bar', color='g', label='Orders')\n",
    "ax2 = ord_prof_date['Profitability'].plot(kind='line', marker='d', secondary_y=True, label = 'Profitability')\n",
    "ax1.set_xlabel('Date',fontsize=15)\n",
    "ax1.set_ylabel('Orders',fontsize=15)\n",
    "ax2.set_ylabel('Profitability',fontsize=15)\n",
    "ax1.set_title('Revenue and Orders For Each Date(1st January 2014 - 9th Dec 2016)',fontsize=15)\n",
    "fig.legend(loc=\"upper left\", bbox_to_anchor=(0.02,0.96), bbox_transform=ax1.transAxes)\n",
    "plt.show()"
   ]
  },
  {
   "cell_type": "markdown",
   "metadata": {},
   "source": [
    "## 4. How does each country contributes to the sales? "
   ]
  },
  {
   "cell_type": "code",
   "execution_count": null,
   "metadata": {},
   "outputs": [],
   "source": [
    "print(\"Number of State that the sales cover : \", data['State'].nunique())\n",
    "print(\"List of state : \")\n",
    "n = 1\n",
    "for i in data['State'].unique():\n",
    "    print(\"{}. {}\".format(n, i))\n",
    "    n += 1"
   ]
  },
  {
   "cell_type": "code",
   "execution_count": null,
   "metadata": {},
   "outputs": [],
   "source": [
    "state_perform = pd.DataFrame({'Order': data.groupby('Order ID')['State'].unique().value_counts().sort_index(), \n",
    "                               'Sales': data.groupby('State')['Sales'].sum()})\n",
    "state_perform.sort_values(by='Order', ascending=False)"
   ]
  },
  {
   "cell_type": "code",
   "execution_count": null,
   "metadata": {},
   "outputs": [],
   "source": [
    "state_perform = pd.DataFrame({'Order': data.groupby('Order ID')['State'].unique().value_counts().sort_index(), \n",
    "                               'Profitability': data.groupby('State')['Profit'].sum()})\n",
    "state_perform.sort_values(by='Order', ascending=False)"
   ]
  },
  {
   "cell_type": "code",
   "execution_count": null,
   "metadata": {},
   "outputs": [],
   "source": [
    "state_perform = pd.DataFrame({'Order': data.groupby('Order ID')['State'].unique().value_counts().sort_index(), \n",
    "                               'Sales': data.groupby('State')['Sales'].sum()})\n",
    "state_perform.sort_values(by='Sales', ascending=False)"
   ]
  },
  {
   "cell_type": "code",
   "execution_count": null,
   "metadata": {},
   "outputs": [],
   "source": [
    "#Import plotly.express libraries for visualization\n",
    "import plotly.express as px\n",
    "\n",
    "# total bookings per market segment (incl. canceled)\n",
    "segments=state_perform[\"Sales\"]\n",
    "\n",
    "# pie plot\n",
    "fig = px.pie(segments,\n",
    "             values=segments.values,\n",
    "             names=state_perform.index,\n",
    "             title=\"State Performance by Profitability\",\n",
    "             template=\"seaborn\")\n",
    "fig.update_traces(rotation=-90, textinfo=\"percent+label\")\n",
    "fig.show()"
   ]
  },
  {
   "cell_type": "code",
   "execution_count": null,
   "metadata": {},
   "outputs": [],
   "source": [
    "state_perform['Percentage'] = (state_perform['Sales']/state_perform['Sales'].sum())*100\n",
    "state_perform.sort_values(by='Percentage', ascending=False).head(10)"
   ]
  },
  {
   "cell_type": "code",
   "execution_count": null,
   "metadata": {},
   "outputs": [],
   "source": [
    "top_ten = state_perform.sort_values(by='Percentage', ascending=False).head(10)\n",
    "\n",
    "fig, ax1 = plt.subplots(figsize=(10, 6))\n",
    "top_ten['Percentage'].plot(kind='bar', color='g', label='Orders')\n",
    "ax1.set_ylabel('Percentage',fontsize=15)\n",
    "ax1.set_xlabel('State',fontsize=15)\n",
    "plt.xticks(rotation=(365-45))\n",
    "ax1.set_title('Top 10 State With Highest Percentage Of Sales',fontsize=15)\n",
    "fig.legend(loc=\"upper right\", bbox_transform=ax1.transAxes)\n",
    "plt.show()\n"
   ]
  },
  {
   "cell_type": "code",
   "execution_count": null,
   "metadata": {},
   "outputs": [],
   "source": [
    "data"
   ]
  },
  {
   "cell_type": "code",
   "execution_count": null,
   "metadata": {},
   "outputs": [],
   "source": [
    "months = ['january', 'february', 'march', 'april', 'may', 'june', \n",
    "          'july', 'august', 'september', 'october', 'november', 'desember']\n",
    "\n",
    "mon_sales = []\n",
    "disc_count = []\n",
    "\n",
    "for i in range(1,13):\n",
    "    mon_sales.append(data[data['Months'] == i]['Sales'].sum())\n",
    "    disc_count.append(data[(data['Discount'] > 0) &(data['Months'] == i)]['Discount'].count())\n",
    "    \n",
    "disc_rev = pd.DataFrame({'monthly_sales': mon_prof, 'num_of_disc': disc_count}, index=months)\n",
    "disc_rev"
   ]
  },
  {
   "cell_type": "code",
   "execution_count": null,
   "metadata": {},
   "outputs": [],
   "source": [
    "fig, ax1 = plt.subplots(figsize=(15, 6))\n",
    "ax1 = disc_rev['num_of_disc'].plot(kind='bar', color='y', label='Number of Discounts')\n",
    "ax2 = disc_rev['monthly_sales'].plot(kind='line', marker='d', secondary_y=True, label = 'Monthly Sales')\n",
    "ax1.set_xlabel('Months',fontsize=15)\n",
    "ax1.set_ylabel('Number of Discounts',fontsize=15)\n",
    "ax2.set_ylabel('Monthly Sales',fontsize=15)\n",
    "ax1.set_title('Monthly Discounts VS Sales',fontsize=15)\n",
    "fig.legend(loc=\"upper left\", bbox_to_anchor=(0.02,0.96), bbox_transform=ax1.transAxes)\n",
    "plt.show()"
   ]
  },
  {
   "cell_type": "code",
   "execution_count": null,
   "metadata": {},
   "outputs": [],
   "source": [
    "disc_rev.corr(method='spearman')"
   ]
  },
  {
   "cell_type": "code",
   "execution_count": null,
   "metadata": {},
   "outputs": [],
   "source": [
    "plt.figure(figsize=(6,6))\n",
    "sns.lmplot(data = disc_rev, x = 'num_of_disc', y = 'monthly_sales')\n",
    "plt.title('Correlation Between Number of Discounts and Revenue Each Months')\n",
    "plt.show()"
   ]
  },
  {
   "cell_type": "code",
   "execution_count": null,
   "metadata": {},
   "outputs": [],
   "source": [
    "months = ['january', 'february', 'march', 'april', 'may', 'june', \n",
    "          'july', 'august', 'september', 'october', 'november', 'desember']\n",
    "\n",
    "mon_prof = []\n",
    "disc_count = []\n",
    "\n",
    "for i in range(1,13):\n",
    "    mon_prof.append(data[data['Months'] == i]['Profit'].sum())\n",
    "    disc_count.append(data[(data['Discount'] > 0) &(data['Months'] == i)]['Discount'].count())\n",
    "    \n",
    "disc_rev = pd.DataFrame({'monthly_revenue': mon_prof, 'num_of_disc': disc_count}, index=months)\n",
    "disc_rev"
   ]
  },
  {
   "cell_type": "code",
   "execution_count": null,
   "metadata": {},
   "outputs": [],
   "source": [
    "fig, ax1 = plt.subplots(figsize=(15, 6))\n",
    "ax1 = disc_rev['num_of_disc'].plot(kind='bar', color='y', label='Number of Discounts')\n",
    "ax2 = disc_rev['monthly_revenue'].plot(kind='line', marker='d', secondary_y=True, label = 'Monthly Profit')\n",
    "ax1.set_xlabel('Months',fontsize=15)\n",
    "ax1.set_ylabel('Number of Discounts',fontsize=15)\n",
    "ax2.set_ylabel('Monthly Profit',fontsize=15)\n",
    "ax1.set_title('Monthly Discounts VS Profit',fontsize=15)\n",
    "fig.legend(loc=\"upper left\", bbox_to_anchor=(0.02,0.96), bbox_transform=ax1.transAxes)\n",
    "plt.show()"
   ]
  },
  {
   "cell_type": "code",
   "execution_count": null,
   "metadata": {},
   "outputs": [],
   "source": [
    "disc_rev.corr(method='spearman')"
   ]
  },
  {
   "cell_type": "code",
   "execution_count": null,
   "metadata": {},
   "outputs": [],
   "source": [
    "plt.figure(figsize=(6,6))\n",
    "sns.lmplot(data = disc_rev, x = 'num_of_disc', y = 'monthly_revenue')\n",
    "plt.title('Correlation Between Number of Discounts and Revenue Each Months')\n",
    "plt.show()"
   ]
  },
  {
   "cell_type": "code",
   "execution_count": null,
   "metadata": {},
   "outputs": [],
   "source": [
    "disc_rev.insert(loc=2, column='num_of_order', \n",
    "                value=pd.Series(data.groupby('Order ID')['Months'].unique().value_counts().sort_index()).values)\n",
    "disc_rev"
   ]
  },
  {
   "cell_type": "code",
   "execution_count": null,
   "metadata": {},
   "outputs": [],
   "source": [
    "sns.heatmap(disc_rev.corr(method='spearman'), annot=True)"
   ]
  },
  {
   "cell_type": "code",
   "execution_count": null,
   "metadata": {},
   "outputs": [],
   "source": [
    "disc_rev.corr(method='spearman')"
   ]
  },
  {
   "cell_type": "code",
   "execution_count": null,
   "metadata": {},
   "outputs": [],
   "source": [
    "data"
   ]
  },
  {
   "cell_type": "code",
   "execution_count": null,
   "metadata": {},
   "outputs": [],
   "source": [
    "print(\"Number of Segment that the sales cover : \", data['Segment'].nunique())\n",
    "print(\"List of segment : \")\n",
    "n = 1\n",
    "for i in data['Segment'].unique():\n",
    "    print(\"{}. {}\".format(n, i))\n",
    "    n += 1"
   ]
  },
  {
   "cell_type": "code",
   "execution_count": null,
   "metadata": {},
   "outputs": [],
   "source": [
    "segment_perform = pd.DataFrame({'Order': data.groupby('Order ID')['Segment'].unique().value_counts().sort_index(), \n",
    "                               'Sales': data.groupby('Segment')['Sales'].sum()})\n",
    "segment_perform.sort_values(by='Order', ascending=False)"
   ]
  },
  {
   "cell_type": "code",
   "execution_count": null,
   "metadata": {},
   "outputs": [],
   "source": [
    "fig, ax1 = plt.subplots(figsize=(15, 6))\n",
    "ax1 = segment_perform['Order'].plot(kind='bar', color='g', label='Orders')\n",
    "ax2 = segment_perform['Sales'].plot(kind='line', marker='d', secondary_y=True, label = 'Sales')\n",
    "ax1.set_xlabel('Month',fontsize=15)\n",
    "ax1.set_ylabel('Orders',fontsize=15)\n",
    "ax2.set_ylabel('Sales',fontsize=15)\n",
    "ax1.set_title('Sales and Orders For different Months (1st January 2014 - 9th Dec 2016)',fontsize=15)\n",
    "\n",
    "fig.legend(loc=\"upper left\", bbox_to_anchor=(0.02,0.96), bbox_transform=ax1.transAxes)\n",
    "plt.show()"
   ]
  },
  {
   "cell_type": "code",
   "execution_count": null,
   "metadata": {},
   "outputs": [],
   "source": [
    "from wordcloud import WordCloud, STOPWORDS"
   ]
  },
  {
   "cell_type": "code",
   "execution_count": null,
   "metadata": {},
   "outputs": [],
   "source": [
    "stopwords = set(STOPWORDS)\n",
    "def show_wordcloud(data, title = None):\n",
    "    wordcloud = WordCloud(\n",
    "        background_color='white',\n",
    "        stopwords=stopwords,\n",
    "        max_words=200,\n",
    "        max_font_size=40, \n",
    "        scale=5,\n",
    "        random_state=1\n",
    "    ).generate(str(data))\n",
    "\n",
    "    fig = plt.figure(1, figsize=(10,10))\n",
    "    plt.axis('off')\n",
    "    if title: \n",
    "        fig.suptitle(title, fontsize=14)\n",
    "        fig.subplots_adjust(top=2.3)\n",
    "\n",
    "    plt.imshow(wordcloud)\n",
    "    plt.show()\n",
    "\n",
    "show_wordcloud(data[\"Product Name\"], \"Wordcloud from product name\")"
   ]
  },
  {
   "cell_type": "markdown",
   "metadata": {},
   "source": [
    "# Customer Segmentation Using RFM Analysis (Quantiles Method and K-Means Clustering\n",
    "Here are the key steps that i took in this Clustering Projects :\n",
    "\n",
    "1. Data Preparation\n",
    "\n",
    "- Creating Recency DataFrames\n",
    "- Creating Frequency DataFrames\n",
    "- Creating Monetary DataFrames\n",
    "- Creating RFM DataFrames\n",
    "2. RFM Analysis with Quantiles Method\n",
    "\n",
    "- Calculate RFM Quantiles\n",
    "- Creating Segments using Quantiles\n",
    "- Create RFM Segmentation Table\n",
    "- Calculate RFMScore and Generate Clusters\n",
    "3. RFM Analysis Using K-Means Clustering\n",
    "\n",
    "- Define K Value for clustering\n",
    "- Fitting Model Predicting CLuster\n",
    "- Cluster Visualization\n",
    "- Cluster Evaluation\n",
    "4. Cluster Exploration\n",
    "\n",
    "- How many Customer for each group/cluster?\n",
    "- How does each cluster/group contribute to the company's revenue?\n",
    "- What is the common stock ordered in each group\n",
    "- When does each cluster usually made an order?\n",
    "- How does each cluster react on a discounts?"
   ]
  },
  {
   "cell_type": "markdown",
   "metadata": {},
   "source": [
    "## Section 01 : Data Preparation\n",
    "In this section, i am going to prepare an RFM datasets that is ready for analysis either using Quantiles Method or using K-Means Clustering. To give a comprehensive understanding of this project, here are some explanation of each calculation:\n",
    "\n",
    "Recency : last date available in Dataset - last date of purchase each customer\n",
    "Frequency : calculate frequency of purchases, count each particular InvoiceNo\n",
    "Monetary : Quantity * UnitPrice\n",
    "Now, let's try to code and get the RFM Datasets"
   ]
  },
  {
   "cell_type": "code",
   "execution_count": null,
   "metadata": {},
   "outputs": [],
   "source": [
    "data = data.drop('Row ID', axis=1)"
   ]
  },
  {
   "cell_type": "markdown",
   "metadata": {},
   "source": [
    "## 1. Create Recency Data Frame"
   ]
  },
  {
   "cell_type": "code",
   "execution_count": null,
   "metadata": {},
   "outputs": [],
   "source": [
    "#group by customers and check last date of purshace\n",
    "recency_df = data.groupby(by='Customer ID', as_index=False)['Date'].max()\n",
    "recency_df.columns = ['Customer ID','LastPurchaseDate']\n",
    "recency_df.head()"
   ]
  },
  {
   "cell_type": "code",
   "execution_count": null,
   "metadata": {},
   "outputs": [],
   "source": [
    "now = data['Date'].max()\n",
    "now = pd.to_datetime(now)\n",
    "recency_df['LastPurchaseDate'] = pd.to_datetime(recency_df['LastPurchaseDate'])"
   ]
  },
  {
   "cell_type": "code",
   "execution_count": null,
   "metadata": {},
   "outputs": [],
   "source": [
    "#calculate recency\n",
    "recency_df['Recency'] = recency_df['LastPurchaseDate'].apply(lambda x: (now - x).days)\n",
    "recency_df.head()"
   ]
  },
  {
   "cell_type": "code",
   "execution_count": null,
   "metadata": {},
   "outputs": [],
   "source": [
    "recency_df['LastPurchaseDate'].apply(lambda x: (now - x).days)"
   ]
  },
  {
   "cell_type": "code",
   "execution_count": null,
   "metadata": {},
   "outputs": [],
   "source": [
    "# Drop LastPurchaseDate because we don't need it\n",
    "recency_df = recency_df.drop('LastPurchaseDate', axis=1)\n",
    "recency_df.head()"
   ]
  },
  {
   "cell_type": "markdown",
   "metadata": {},
   "source": [
    "## 2. Create Frequency Data Frame"
   ]
  },
  {
   "cell_type": "code",
   "execution_count": null,
   "metadata": {},
   "outputs": [],
   "source": [
    "# drop duplicates\n",
    "data_copy = data\n",
    "data_copy.drop_duplicates(subset=['Order ID', 'Customer ID'], keep=\"first\", inplace=True)\n",
    "\n",
    "#calculate frequency of purchases\n",
    "frequency_df = data_copy.groupby(by=['Customer ID'], as_index=False)['Order ID'].count()\n",
    "frequency_df.columns = ['Customer ID','Frequency']\n",
    "frequency_df.head()"
   ]
  },
  {
   "cell_type": "markdown",
   "metadata": {},
   "source": [
    "## 3. Creating Monetary DataFrames"
   ]
  },
  {
   "cell_type": "code",
   "execution_count": null,
   "metadata": {},
   "outputs": [],
   "source": [
    "monetary_df = data.groupby(by='Customer ID',as_index=False).agg({'Sales': 'sum'})\n",
    "monetary_df.columns = ['Customer ID','Monetary']\n",
    "monetary_df.head()"
   ]
  },
  {
   "cell_type": "code",
   "execution_count": null,
   "metadata": {},
   "outputs": [],
   "source": [
    "data[data['Customer ID']=='AA-10315']"
   ]
  },
  {
   "cell_type": "markdown",
   "metadata": {},
   "source": [
    "## 4. Creating RFM Dataframes"
   ]
  },
  {
   "cell_type": "code",
   "execution_count": null,
   "metadata": {},
   "outputs": [],
   "source": [
    "#merge recency dataframe with frequency dataframe\n",
    "temp_df = recency_df.merge(frequency_df,on='Customer ID')\n",
    "temp_df.head()"
   ]
  },
  {
   "cell_type": "code",
   "execution_count": null,
   "metadata": {},
   "outputs": [],
   "source": [
    "#merge with monetary dataframe to get a table with the 3 columns\n",
    "rfm_df = temp_df.merge(monetary_df,on='Customer ID')\n",
    "#use CustomerID as index\n",
    "rfm_df.set_index('Customer ID',inplace=True)\n",
    "#check the head\n",
    "rfm_df.head()"
   ]
  },
  {
   "cell_type": "markdown",
   "metadata": {},
   "source": [
    "## Section 02 : RFM Analysis with Quantiles Method"
   ]
  },
  {
   "cell_type": "code",
   "execution_count": null,
   "metadata": {},
   "outputs": [],
   "source": [
    "quantiles = rfm_df.quantile(q=[0.25,0.5,0.75])\n",
    "quantiles"
   ]
  },
  {
   "cell_type": "code",
   "execution_count": null,
   "metadata": {},
   "outputs": [],
   "source": [
    "quantiles.to_dict()"
   ]
  },
  {
   "cell_type": "code",
   "execution_count": null,
   "metadata": {},
   "outputs": [],
   "source": [
    "#CREATING SEGMENTS USING QUANTILES\n",
    "def RScore(x,p,d):\n",
    "    if x <= d[p][0.25]:\n",
    "        return 4\n",
    "    elif x <= d[p][0.50]:\n",
    "        return 3\n",
    "    elif x <= d[p][0.75]: \n",
    "        return 2\n",
    "    else:\n",
    "        return 1\n",
    "# Arguments (x = value, p = recency, monetary_value, frequency, k = quartiles dict)\n",
    "def FMScore(x,p,d):\n",
    "    if x <= d[p][0.25]:\n",
    "        return 1\n",
    "    elif x <= d[p][0.50]:\n",
    "        return 2\n",
    "    elif x <= d[p][0.75]: \n",
    "        return 3\n",
    "    else:\n",
    "        return 4"
   ]
  },
  {
   "cell_type": "code",
   "execution_count": null,
   "metadata": {},
   "outputs": [],
   "source": [
    "#create rfm segmentation table\n",
    "rfm_segmentation = rfm_df\n",
    "rfm_segmentation['R_Quartile'] = rfm_segmentation['Recency'].apply(RScore, args=('Recency',quantiles,))\n",
    "rfm_segmentation['F_Quartile'] = rfm_segmentation['Frequency'].apply(FMScore, args=('Frequency',quantiles,))\n",
    "rfm_segmentation['M_Quartile'] = rfm_segmentation['Monetary'].apply(FMScore, args=('Monetary',quantiles,))"
   ]
  },
  {
   "cell_type": "code",
   "execution_count": null,
   "metadata": {},
   "outputs": [],
   "source": [
    "rfm_segmentation.head()"
   ]
  },
  {
   "cell_type": "code",
   "execution_count": null,
   "metadata": {},
   "outputs": [],
   "source": [
    "rfm_segmentation['RFMScore'] = rfm_segmentation.R_Quartile.map(str) \\\n",
    "                             + rfm_segmentation.F_Quartile.map(str) \\\n",
    "                             + rfm_segmentation.M_Quartile.map(str)\n",
    "rfm_segmentation.head()"
   ]
  },
  {
   "cell_type": "code",
   "execution_count": null,
   "metadata": {},
   "outputs": [],
   "source": [
    "rfm_segmentation[rfm_segmentation['RFMScore']=='444'].sort_values('Monetary', ascending=False).head(10)"
   ]
  },
  {
   "cell_type": "code",
   "execution_count": null,
   "metadata": {},
   "outputs": [],
   "source": [
    "print(\"Best Customers: \",len(rfm_segmentation[rfm_segmentation['RFMScore']=='444']))\n",
    "print('Loyal Customers: ',len(rfm_segmentation[rfm_segmentation['F_Quartile']==4]))\n",
    "print(\"Big Spenders: \",len(rfm_segmentation[rfm_segmentation['M_Quartile']==4]))\n",
    "print('Almost Lost: ', len(rfm_segmentation[rfm_segmentation['RFMScore']=='244']))\n",
    "print('Lost Customers: ',len(rfm_segmentation[rfm_segmentation['RFMScore']=='144']))\n",
    "print('Lost Cheap Customers: ',len(rfm_segmentation[rfm_segmentation['RFMScore']=='111']))"
   ]
  },
  {
   "cell_type": "code",
   "execution_count": null,
   "metadata": {},
   "outputs": [],
   "source": [
    "rfm_segmentation['RFMScore'].describe()"
   ]
  },
  {
   "cell_type": "code",
   "execution_count": null,
   "metadata": {},
   "outputs": [],
   "source": [
    "rfm_segmentation['RFMScore'].unique()"
   ]
  },
  {
   "cell_type": "code",
   "execution_count": null,
   "metadata": {},
   "outputs": [],
   "source": [
    "rfm_segmentation"
   ]
  },
  {
   "cell_type": "markdown",
   "metadata": {},
   "source": [
    "# Section 03 : RFM Analysis Using K-Means Clustering\n",
    "In this K-Means Clsutering, here are some key points that i am going to cover :\n",
    "\n",
    "Define K Value for clustering\n",
    "Fitting Model Predicting Cluster\n",
    "Cluster Visualization\n",
    "Cluster Evaluation\n",
    "For each step, I will try to do different handling on the Data PreProcessing. RFM Dataset that i used to cluster the customer, firstly i will try to do the clustering model without handling outliers. After that, I will try to do just the same steps but after I handled The outliers and then I could compare which clustering that give a better result. After i choose the best clustering result, I try to do these steps :\n",
    "\n",
    "1. Define K Value\n",
    "There are at least 3 ways to define K values(number of clusters). in this project i will try to find the K Values using Elbow Method."
   ]
  },
  {
   "cell_type": "code",
   "execution_count": null,
   "metadata": {},
   "outputs": [],
   "source": [
    "from sklearn.cluster import KMeans\n",
    "from sklearn import metrics"
   ]
  },
  {
   "cell_type": "code",
   "execution_count": null,
   "metadata": {},
   "outputs": [],
   "source": [
    "rfm_segment_positive = rfm_segmentation[rfm_segmentation['Monetary']>0]"
   ]
  },
  {
   "cell_type": "code",
   "execution_count": null,
   "metadata": {},
   "outputs": [],
   "source": [
    "k = range(1, 15)\n",
    "inertia = []\n",
    "\n",
    "for i in k:\n",
    "    model = KMeans(n_clusters = i)\n",
    "    model.fit(rfm_segment_positive[['Frequency', 'Monetary']])\n",
    "    inertia.append(model.inertia_)\n",
    "\n",
    "print(k)\n",
    "print(inertia)"
   ]
  },
  {
   "cell_type": "code",
   "execution_count": null,
   "metadata": {},
   "outputs": [],
   "source": [
    "plt.figure(figsize=(12,8))\n",
    "plt.plot(k, inertia)\n",
    "plt.xlabel('k value')\n",
    "plt.ylabel('inertia sum squared error')\n",
    "plt.plot(k[3], inertia[3], 'ro')\n",
    "plt.annotate(\n",
    "    'Best k value = 4', xy=(k[3], inertia[3]),\n",
    "    xytext = (4, 50), arrowprops = dict(facecolor='black', shrink=0.1)\n",
    ")"
   ]
  },
  {
   "cell_type": "code",
   "execution_count": null,
   "metadata": {},
   "outputs": [],
   "source": [
    "from sklearn.metrics import davies_bouldin_score"
   ]
  },
  {
   "cell_type": "code",
   "execution_count": null,
   "metadata": {},
   "outputs": [],
   "source": [
    "kmeans = KMeans(n_clusters=3)\n",
    "kmeans.fit(rfm_segment_positive[['Frequency', 'Monetary']])"
   ]
  },
  {
   "cell_type": "code",
   "execution_count": null,
   "metadata": {},
   "outputs": [],
   "source": [
    "print(davies_bouldin_score(rfm_segment_positive[['Frequency', 'Monetary']], kmeans.labels_))"
   ]
  },
  {
   "cell_type": "code",
   "execution_count": null,
   "metadata": {},
   "outputs": [],
   "source": [
    "kmeans = KMeans(n_clusters=4)\n",
    "kmeans.fit(rfm_segment_positive[['Frequency', 'Monetary']])"
   ]
  },
  {
   "cell_type": "code",
   "execution_count": null,
   "metadata": {},
   "outputs": [],
   "source": [
    "print(davies_bouldin_score(rfm_segment_positive[['Frequency', 'Monetary']], kmeans.labels_))"
   ]
  },
  {
   "cell_type": "code",
   "execution_count": null,
   "metadata": {},
   "outputs": [],
   "source": [
    "kmeans = KMeans(n_clusters=5)\n",
    "kmeans.fit(rfm_segment_positive[['Frequency', 'Monetary']])"
   ]
  },
  {
   "cell_type": "code",
   "execution_count": null,
   "metadata": {},
   "outputs": [],
   "source": [
    "print(davies_bouldin_score(rfm_segment_positive[['Frequency', 'Monetary']], kmeans.labels_))"
   ]
  },
  {
   "cell_type": "markdown",
   "metadata": {},
   "source": [
    "## 2. Fitting Model And Predicting Cluster"
   ]
  },
  {
   "cell_type": "code",
   "execution_count": null,
   "metadata": {},
   "outputs": [],
   "source": [
    "# Fitting Model\n",
    "model_KM = KMeans(n_clusters = 4, max_iter = 10000) #tingkatkan iterasi untuk meningkatkan kualitas prediksi \n",
    "\n",
    "model_KM.fit(rfm_segment_positive[['Frequency', 'Monetary']])"
   ]
  },
  {
   "cell_type": "code",
   "execution_count": null,
   "metadata": {},
   "outputs": [],
   "source": [
    "model_KM.labels_"
   ]
  },
  {
   "cell_type": "code",
   "execution_count": null,
   "metadata": {},
   "outputs": [],
   "source": [
    "#Predict Cluster\n",
    "\n",
    "rfm_segment_positive['cluster'] = model_KM.predict(rfm_segment_positive[['Frequency', 'Monetary']])\n",
    "rfm_segment_positive.head()"
   ]
  },
  {
   "cell_type": "code",
   "execution_count": null,
   "metadata": {},
   "outputs": [],
   "source": [
    "rfm_segment_positive['cluster'].describe()"
   ]
  },
  {
   "cell_type": "markdown",
   "metadata": {},
   "source": [
    "## 3. Visualizing Cluster (Before Handling Outlier)"
   ]
  },
  {
   "cell_type": "code",
   "execution_count": null,
   "metadata": {},
   "outputs": [],
   "source": [
    "plt.plot(rfm_segment_positive['Frequency'][rfm_segment_positive['cluster'] == 0], \n",
    "         rfm_segment_positive['Monetary'][rfm_segment_positive['cluster'] == 0], 'r.')\n",
    "plt.plot(rfm_segment_positive['Frequency'][rfm_segment_positive['cluster'] == 1], \n",
    "         rfm_segment_positive['Monetary'][rfm_segment_positive['cluster'] == 1], 'y.')\n",
    "plt.plot(rfm_segment_positive['Frequency'][rfm_segment_positive['cluster'] == 2], \n",
    "         rfm_segment_positive['Monetary'][rfm_segment_positive['cluster'] == 2], 'b.')\n",
    "plt.plot(rfm_segment_positive['Frequency'][rfm_segment_positive['cluster'] == 3], \n",
    "         rfm_segment_positive['Monetary'][rfm_segment_positive['cluster'] == 3], 'g.')\n",
    "plt.xlabel('Frequency')\n",
    "plt.ylabel('Monetary')"
   ]
  },
  {
   "cell_type": "markdown",
   "metadata": {},
   "source": [
    "## Handling Outliers in RFM Dataset"
   ]
  },
  {
   "cell_type": "code",
   "execution_count": null,
   "metadata": {},
   "outputs": [],
   "source": [
    "rfm_segmentation.describe()"
   ]
  },
  {
   "cell_type": "markdown",
   "metadata": {},
   "source": [
    "### Detecting Outliers with Distribution Plot"
   ]
  },
  {
   "cell_type": "code",
   "execution_count": null,
   "metadata": {},
   "outputs": [],
   "source": [
    "plt.style.use(\"fivethirtyeight\")\n",
    "\n",
    "plt.figure(1, figsize=(15,6))\n",
    "n = 0\n",
    "for x in ['Recency', 'Frequency', 'Monetary']:\n",
    "    n += 1\n",
    "    plt.subplot(1, 3, n)\n",
    "    plt.subplots_adjust(hspace = 0.5, wspace = 0.5)\n",
    "    sns.distplot(rfm_segmentation[x], bins = 20)\n",
    "    plt.title('Distplot 0f {}'.format(x))\n",
    "plt.show()"
   ]
  },
  {
   "cell_type": "markdown",
   "metadata": {},
   "source": [
    "From the Distribution Plot above, we could intuitively see that there is an outliers detected in each of the feature. To make sure that there is an outliers in out dataframe, I will try to do another outliers detection using BoxPlot"
   ]
  },
  {
   "cell_type": "markdown",
   "metadata": {},
   "source": [
    "### Detecting Outliers using boxplot"
   ]
  },
  {
   "cell_type": "code",
   "execution_count": null,
   "metadata": {},
   "outputs": [],
   "source": [
    "plt.style.use(\"fivethirtyeight\")\n",
    "\n",
    "plt.figure(1, figsize=(15,6))\n",
    "n = 0\n",
    "for x in ['Recency', 'Frequency', 'Monetary']:\n",
    "    n += 1\n",
    "    plt.subplot(3, 1, n)\n",
    "    plt.subplots_adjust(hspace = 0.5, wspace = 0.5)\n",
    "    sns.boxplot(rfm_segmentation[x])\n",
    "    plt.title('Distplot 0f {}'.format(x))\n",
    "plt.tight_layout()\n",
    "plt.show()\n"
   ]
  },
  {
   "cell_type": "code",
   "execution_count": null,
   "metadata": {},
   "outputs": [],
   "source": [
    "plt.style.use(\"fivethirtyeight\")\n",
    "\n",
    "plt.figure(1, figsize=(15,6))\n",
    "n = 0\n",
    "for x in ['Recency', 'Frequency', 'Monetary']:\n",
    "    n += 1\n",
    "    plt.subplot(3, 1, n)\n",
    "    plt.subplots_adjust(hspace = 0.5, wspace = 0.5)\n",
    "    sns.boxplot(rfm_segment_positive[x])\n",
    "    plt.title('Distplot 0f {}'.format(x))\n",
    "plt.tight_layout()\n",
    "plt.show()"
   ]
  },
  {
   "cell_type": "code",
   "execution_count": null,
   "metadata": {},
   "outputs": [],
   "source": [
    "Q1 = rfm_segmentation[i].describe()['25%']\n",
    "Q2 = rfm_segmentation[i].describe()['50%']\n",
    "Q3 = rfm_segmentation[i].describe()['75%']\n",
    "\n",
    "IQR = (Q3 - Q1) * 1.5\n",
    "batas_bawah= Q1-IQR\n",
    "batas_atas = Q3+IQR\n",
    "\n",
    "def find_outlier(yourlist):\n",
    "    outlier = ''\n",
    "    for i in range(len(yourlist)):\n",
    "        if yourlist[i] > batas_atas:\n",
    "            outlier += str(yourlist[i]) + ', '\n",
    "        if yourlist[i] < batas_bawah:\n",
    "            outlier += str(yourlist[i]) + ', '\n",
    "    return outlier"
   ]
  },
  {
   "cell_type": "code",
   "execution_count": null,
   "metadata": {},
   "outputs": [],
   "source": [
    "cols = ['Recency', 'Frequency', 'Monetary']\n",
    "for i in cols:\n",
    "    if find_outlier(rfm_segment_positive[i].values) == []:\n",
    "        print('Feature {} has NO Outliers'.format(i))\n",
    "    else:\n",
    "        print('Feature {} has {} Outliers '.format(i, len((find_outlier(rfm_segmentation[i].values)).split(','))))"
   ]
  },
  {
   "cell_type": "markdown",
   "metadata": {},
   "source": [
    "## Handling Outliers Using Data Rescaling\n",
    "As you can see in the IQR method above, there are a lot of outlier, almost 500 entries of the data. Due to the high number of the outliers, we could not just drop the outliers, because we will lost a lots of dataset. That is why i am going to use Rescalling Method by calculate the log values of each feature."
   ]
  },
  {
   "cell_type": "code",
   "execution_count": null,
   "metadata": {},
   "outputs": [],
   "source": [
    "# Create a DataFrame without Minus(-) Transaction to avoid Infinite Number when calculate the Log value\n",
    "rfm_positive = rfm_segment_positive[rfm_segment_positive['Recency']>0]"
   ]
  },
  {
   "cell_type": "code",
   "execution_count": null,
   "metadata": {},
   "outputs": [],
   "source": [
    "#Generate Feature of Logged value for each Recency, Frequency, and Monetary\n",
    "cols = ['Recency', 'Frequency', 'Monetary']\n",
    "for i in cols :\n",
    "    rfm_positive['Log_of_{}'.format(i)] = [np.log(x) for x in rfm_positive[i]]"
   ]
  },
  {
   "cell_type": "code",
   "execution_count": null,
   "metadata": {},
   "outputs": [],
   "source": [
    "rfm_positive.info()"
   ]
  },
  {
   "cell_type": "code",
   "execution_count": null,
   "metadata": {},
   "outputs": [],
   "source": [
    "rfm_positive.isna().sum()"
   ]
  },
  {
   "cell_type": "markdown",
   "metadata": {},
   "source": [
    "As you can see now we have only 4152 entries which means we lost around 200 entries, at least it is better than losing 500 entries. To make sure that we have handled the outliers, i try to visualize the Distribution Plot and Boxplot one more time\n",
    "\n",
    "### Distribution Plot of Recency, Frequency, and Monetary after Outliers Handling with Data Rescalling"
   ]
  },
  {
   "cell_type": "code",
   "execution_count": null,
   "metadata": {},
   "outputs": [],
   "source": [
    "plt.style.use(\"fivethirtyeight\")\n",
    "\n",
    "plt.figure(1, figsize=(15,6))\n",
    "n = 0\n",
    "for x in ['Log_of_Recency', 'Log_of_Frequency', 'Log_of_Monetary']:\n",
    "    n += 1\n",
    "    plt.subplot(1, 3, n)\n",
    "    plt.subplots_adjust(hspace = 0.5, wspace = 0.5)\n",
    "    sns.distplot(rfm_positive[x], bins = 20)\n",
    "    plt.title('Distplot 0f {}'.format(x))\n",
    "plt.show()"
   ]
  },
  {
   "cell_type": "markdown",
   "metadata": {},
   "source": [
    "### BoxPlot of Recency, Frequency, and Monetary after Outliers Handling with Data Rescalling"
   ]
  },
  {
   "cell_type": "code",
   "execution_count": null,
   "metadata": {},
   "outputs": [],
   "source": [
    "plt.style.use(\"fivethirtyeight\")\n",
    "\n",
    "plt.figure(1, figsize=(15,6))\n",
    "n = 0\n",
    "for x in ['Log_of_Recency', 'Log_of_Frequency', 'Log_of_Monetary']:\n",
    "    n += 1\n",
    "    plt.subplot(3, 1, n)\n",
    "    plt.subplots_adjust(hspace = 0.5, wspace = 0.5)\n",
    "    sns.boxplot(rfm_positive[x])\n",
    "    plt.title('Boxplot 0f {}'.format(x))\n",
    "plt.tight_layout()\n",
    "plt.show()\n"
   ]
  },
  {
   "cell_type": "markdown",
   "metadata": {},
   "source": [
    "As you can see the data distribution after rescaling is way better now. Now, let's try to build another clustering model using K-Means Clustering"
   ]
  },
  {
   "cell_type": "markdown",
   "metadata": {},
   "source": [
    "STEP 1 : Define K-Value\n",
    "In this section, i will find K-Value for each combination below :\n",
    "\n",
    "1. K Value for clustering model between Recency and Frequency\n",
    "2. K Value for clustering model between Recency and Monetary\n",
    "3. K value for clustering model between Monetary and Frequency"
   ]
  },
  {
   "cell_type": "code",
   "execution_count": null,
   "metadata": {},
   "outputs": [],
   "source": [
    "k = range(1, 15)\n",
    "inertia = []\n",
    "inertia_2 = []\n",
    "inertia_3 = []\n",
    "\n",
    "for i in k:\n",
    "    model = KMeans(n_clusters = i)\n",
    "    model_2 = KMeans(n_clusters = i)\n",
    "    model_3 = KMeans(n_clusters = i)\n",
    "    model.fit(rfm_positive[['Log_of_Recency', 'Log_of_Frequency']])\n",
    "    model_2.fit(rfm_positive[['Log_of_Recency', 'Log_of_Monetary']])\n",
    "    model_3.fit(rfm_positive[['Log_of_Monetary', 'Log_of_Frequency']])\n",
    "    inertia.append(model.inertia_)\n",
    "    inertia_2.append(model_2.inertia_)\n",
    "    inertia_3.append(model_3.inertia_)\n",
    "\n",
    "print(k)\n",
    "print(inertia)\n",
    "print(inertia_2)\n",
    "print(inertia_3)"
   ]
  },
  {
   "cell_type": "code",
   "execution_count": null,
   "metadata": {},
   "outputs": [],
   "source": [
    "plt.figure(figsize=(8,6))\n",
    "plt.plot(k, inertia)\n",
    "plt.xlabel('k value')\n",
    "plt.ylabel('inertia sum squared error')\n",
    "plt.plot(k[3], inertia[3], 'ro')\n",
    "plt.annotate(\n",
    "    'Best k value = 4', xy=(k[3], inertia[3]),\n",
    "    xytext = (4, 50), arrowprops = dict(facecolor='black', shrink=0.1)\n",
    ")"
   ]
  },
  {
   "cell_type": "code",
   "execution_count": null,
   "metadata": {},
   "outputs": [],
   "source": [
    "plt.figure(figsize=(8,6))\n",
    "plt.plot(k, inertia)\n",
    "plt.xlabel('k value')\n",
    "plt.ylabel('inertia sum squared error')\n",
    "plt.plot(k[3], inertia_2[12], 'ro')\n",
    "plt.annotate(\n",
    "    'Best k value = 4', xy=(k[3], inertia_2[12]),\n",
    "    xytext = (4, 50), arrowprops = dict(facecolor='black', shrink=0.1)\n",
    ")"
   ]
  },
  {
   "cell_type": "code",
   "execution_count": null,
   "metadata": {},
   "outputs": [],
   "source": [
    "plt.figure(figsize=(8,6))\n",
    "plt.plot(k, inertia)\n",
    "plt.xlabel('k value')\n",
    "plt.ylabel('inertia sum squared error')\n",
    "plt.plot(k[2], inertia_3[2], 'ro')\n",
    "plt.annotate(\n",
    "    'Best k value = 3', xy=(k[2], inertia_3[4]),\n",
    "    xytext = (3, 50), arrowprops = dict(facecolor='black', shrink=0.1)\n",
    ")"
   ]
  },
  {
   "cell_type": "markdown",
   "metadata": {},
   "source": [
    "From the Elbow Method above, we could conclude that :\n",
    "\n",
    "1. K value for model 1 = 4\n",
    "2. K Value for model 2 = 4\n",
    "3. K Value for model 3 = 3"
   ]
  },
  {
   "cell_type": "markdown",
   "metadata": {},
   "source": [
    "#### STEP 2 : Model Fitting and Prediction\n",
    "after i find the K Values for each model, I try to Fit these model with different feature inside, After that, I try to predict the clusters for each model"
   ]
  },
  {
   "cell_type": "code",
   "execution_count": null,
   "metadata": {},
   "outputs": [],
   "source": [
    "# Fitting Model\n",
    "model_KM = KMeans(n_clusters = 4, max_iter = 10000)#tingkatkan iterasi untuk meningkatkan kualitas prediksi \n",
    "model_KM_3 = KMeans(n_clusters = 3, max_iter = 10000)\n",
    "\n",
    "model_KM.fit(rfm_positive[['Log_of_Recency', 'Log_of_Frequency']])\n",
    "model_KM.fit(rfm_positive[['Log_of_Recency', 'Log_of_Monetary']])\n",
    "model_KM_3.fit(rfm_positive[['Log_of_Monetary', 'Log_of_Frequency']])"
   ]
  },
  {
   "cell_type": "code",
   "execution_count": null,
   "metadata": {},
   "outputs": [],
   "source": [
    "#Predict Cluster\n",
    "\n",
    "rfm_positive['K-Means_RF'] = model_KM.predict(rfm_positive[['Log_of_Recency', 'Log_of_Frequency']])\n",
    "rfm_positive['K-Means_RM'] = model_KM.predict(rfm_positive[['Log_of_Recency', 'Log_of_Monetary']])\n",
    "rfm_positive['K-Means_MF'] = model_KM_3.predict(rfm_positive[['Log_of_Monetary', 'Log_of_Frequency']])\n",
    "rfm_positive.head()"
   ]
  },
  {
   "cell_type": "code",
   "execution_count": null,
   "metadata": {},
   "outputs": [],
   "source": [
    "rfm_positive[rfm_positive['K-Means_RF']==3]"
   ]
  },
  {
   "cell_type": "markdown",
   "metadata": {},
   "source": [
    "#### STEP 3 : Cluster Visualization\n",
    "Since there are 3 model of clustering in this projects, I Will try to visualize each of the model\n",
    "\n",
    "##### Clustering 1 : Monetary vs Recency"
   ]
  },
  {
   "cell_type": "code",
   "execution_count": null,
   "metadata": {},
   "outputs": [],
   "source": [
    "plt.style.use(\"fivethirtyeight\")\n",
    "plt.plot(rfm_positive['Log_of_Recency'][rfm_positive['K-Means_RM'] == 0], \n",
    "         rfm_positive['Log_of_Monetary'][rfm_positive['K-Means_RM'] == 0], 'b.')\n",
    "plt.plot(rfm_positive['Log_of_Recency'][rfm_positive['K-Means_RM'] == 1], \n",
    "         rfm_positive['Log_of_Monetary'][rfm_positive['K-Means_RM'] == 1], 'r.')\n",
    "plt.plot(rfm_positive['Log_of_Recency'][rfm_positive['K-Means_RM'] == 2], \n",
    "         rfm_positive['Log_of_Monetary'][rfm_positive['K-Means_RM'] == 2], 'y.')\n",
    "plt.plot(rfm_positive['Log_of_Recency'][rfm_positive['K-Means_RM'] == 3], \n",
    "         rfm_positive['Log_of_Monetary'][rfm_positive['K-Means_RM'] == 3], 'g.')\n",
    "plt.title(\"Monetary VS Recency\")\n",
    "plt.xlabel('Recency')\n",
    "plt.ylabel('Monetary')"
   ]
  },
  {
   "cell_type": "markdown",
   "metadata": {},
   "source": [
    "#### Clustering 2 : Frequency vs Recency"
   ]
  },
  {
   "cell_type": "code",
   "execution_count": null,
   "metadata": {},
   "outputs": [],
   "source": [
    "plt.plot(rfm_positive['Log_of_Recency'][rfm_positive['K-Means_RF'] == 0], \n",
    "         rfm_positive['Log_of_Frequency'][rfm_positive['K-Means_RF'] == 0], 'y.')\n",
    "plt.plot(rfm_positive['Log_of_Recency'][rfm_positive['K-Means_RF'] == 1], \n",
    "         rfm_positive['Log_of_Frequency'][rfm_positive['K-Means_RF'] == 1], 'g.')\n",
    "plt.plot(rfm_positive['Log_of_Recency'][rfm_positive['K-Means_RF'] == 2], \n",
    "         rfm_positive['Log_of_Frequency'][rfm_positive['K-Means_RF'] == 2], 'r.')\n",
    "plt.plot(rfm_positive['Log_of_Recency'][rfm_positive['K-Means_RF'] == 3], \n",
    "         rfm_positive['Log_of_Frequency'][rfm_positive['K-Means_RF'] == 3], 'y.')\n",
    "plt.title(\"Frequency VS Recency\")\n",
    "plt.xlabel('Recency')\n",
    "plt.ylabel('Frequency')"
   ]
  },
  {
   "cell_type": "markdown",
   "metadata": {},
   "source": [
    "#### Clustering 3 : Monetary vs Frequency"
   ]
  },
  {
   "cell_type": "code",
   "execution_count": null,
   "metadata": {},
   "outputs": [],
   "source": [
    "plt.plot(rfm_positive['Log_of_Monetary'][rfm_positive['K-Means_MF'] == 0], \n",
    "         rfm_positive['Log_of_Frequency'][rfm_positive['K-Means_MF'] == 0], 'g.')\n",
    "plt.plot(rfm_positive['Log_of_Monetary'][rfm_positive['K-Means_MF'] == 1], \n",
    "         rfm_positive['Log_of_Frequency'][rfm_positive['K-Means_MF'] == 1], 'r.')\n",
    "plt.plot(rfm_positive['Log_of_Monetary'][rfm_positive['K-Means_MF'] == 2], \n",
    "         rfm_positive['Log_of_Frequency'][rfm_positive['K-Means_MF'] == 2], 'b.')\n",
    "plt.title(\"Frequency VS Monetary\")\n",
    "plt.xlabel('Monetary')\n",
    "plt.ylabel('Frequency')"
   ]
  },
  {
   "cell_type": "code",
   "execution_count": null,
   "metadata": {},
   "outputs": [],
   "source": [
    "data.head()"
   ]
  },
  {
   "cell_type": "markdown",
   "metadata": {},
   "source": [
    "### Clustering Evaluation and Cluster Exploration\n",
    "\n",
    "bla bla bla\n"
   ]
  },
  {
   "cell_type": "markdown",
   "metadata": {},
   "source": [
    "## 1. How many customers for each group/cluster?"
   ]
  },
  {
   "cell_type": "code",
   "execution_count": null,
   "metadata": {},
   "outputs": [],
   "source": [
    "cluster_member = pd.DataFrame({\"Group 1\" : [len(rfm_positive[rfm_positive[\"K-Means_RM\"]==1])],\n",
    "              \"Group 2\" : len(rfm_positive[rfm_positive[\"K-Means_RM\"]==0]),\n",
    "              \"Group 3\" : len(rfm_positive[rfm_positive[\"K-Means_RM\"]==2]),\n",
    "              \"Group 4\" : len(rfm_positive[rfm_positive[\"K-Means_RM\"]==3])}).T\n",
    "cluster_member.columns = ['number_of_member']\n",
    "cluster_member.sort_values('number_of_member')"
   ]
  },
  {
   "cell_type": "code",
   "execution_count": null,
   "metadata": {},
   "outputs": [],
   "source": [
    "plt.style.use('seaborn-white')\n",
    "\n",
    "fig, ax1 = plt.subplots(figsize=(15, 6))\n",
    "ax1 = cluster_member.sort_values('number_of_member')['number_of_member'].plot(kind='bar', color='green')\n",
    "ax1.set_ylabel('Number of Member',fontsize=15)\n",
    "ax1.set_title('Number of Cluster Member for Each groups',fontsize=15)\n",
    "plt.xticks(rotation=(0))\n",
    "plt.legend()"
   ]
  },
  {
   "cell_type": "markdown",
   "metadata": {},
   "source": [
    "### 2. How does each cluster/group contribute to the company's sales?"
   ]
  },
  {
   "cell_type": "code",
   "execution_count": null,
   "metadata": {},
   "outputs": [],
   "source": [
    "rfm_positive.head()"
   ]
  },
  {
   "cell_type": "code",
   "execution_count": null,
   "metadata": {},
   "outputs": [],
   "source": [
    "group_1 = rfm_positive[rfm_positive[\"K-Means_RM\"]==1].index\n",
    "group_2 = rfm_positive[rfm_positive[\"K-Means_RM\"]==0].index\n",
    "group_3 = rfm_positive[rfm_positive[\"K-Means_RM\"]==2].index\n",
    "group_4 = rfm_positive[rfm_positive[\"K-Means_RM\"]==3].index"
   ]
  },
  {
   "cell_type": "code",
   "execution_count": null,
   "metadata": {},
   "outputs": [],
   "source": [
    "list_cluster = []\n",
    "for i in data['Customer ID']:\n",
    "    if i in list(group_1) :\n",
    "        list_cluster.append('Group 1')\n",
    "    elif i in list(group_2) :\n",
    "        list_cluster.append('Group 2')\n",
    "    elif i in list(group_3) :\n",
    "        list_cluster.append('Group 3')\n",
    "    elif i in list(group_4) :\n",
    "        list_cluster.append('Group 4')\n",
    "    else:\n",
    "        list_cluster.append('Outlier')"
   ]
  },
  {
   "cell_type": "code",
   "execution_count": null,
   "metadata": {},
   "outputs": [],
   "source": [
    "data['K-Means_Cluster'] = list_cluster\n",
    "data.head()"
   ]
  },
  {
   "cell_type": "code",
   "execution_count": null,
   "metadata": {},
   "outputs": [],
   "source": [
    "data.isna().sum()"
   ]
  },
  {
   "cell_type": "code",
   "execution_count": null,
   "metadata": {},
   "outputs": [],
   "source": [
    "ord_rev_cluster = pd.DataFrame({\"Sales\" : data.groupby('K-Means_Cluster')['Sales'].sum(),\n",
    "                                \"Order\" :data.groupby('K-Means_Cluster')['Quantity'].sum()})\n",
    "ord_rev_cluster.drop(['Outlier'], inplace=True)\n",
    "ord_rev_cluster"
   ]
  },
  {
   "cell_type": "code",
   "execution_count": null,
   "metadata": {},
   "outputs": [],
   "source": [
    "# pie plot\n",
    "import plotly.express as px\n",
    "\n",
    "fig = px.pie(ord_rev_cluster['Sales'],\n",
    "             values=ord_rev_cluster['Sales'].values,\n",
    "             names=ord_rev_cluster['Sales'].index,\n",
    "             title=\"Clusters Contribution by Sales\",\n",
    "             template=\"seaborn\")\n",
    "fig.update_traces(rotation=-90, textinfo=\"percent+label\")\n",
    "#Saving Plot for dashboards\n",
    "\n",
    "fig.show()"
   ]
  },
  {
   "cell_type": "markdown",
   "metadata": {},
   "source": [
    "### 3. What is the common stock ordered in each group"
   ]
  },
  {
   "cell_type": "code",
   "execution_count": null,
   "metadata": {},
   "outputs": [],
   "source": [
    "top_5_1 = data[data['K-Means_Cluster']=='Group 1'].sort_values(by='Quantity', ascending=False).head()['Product Name']\n",
    "top_5_2 = data[data['K-Means_Cluster']=='Group 2'].sort_values(by='Quantity', ascending=False).head()['Product Name']\n",
    "top_5_3 = data[data['K-Means_Cluster']=='Group 3'].sort_values(by='Quantity', ascending=False).head()['Product Name']\n",
    "top_5_4 = data[data['K-Means_Cluster']=='Group 4'].sort_values(by='Quantity', ascending=False).head()['Product Name']\n",
    "\n",
    "top_price_1 = data[data['K-Means_Cluster']=='Group 1'].sort_values(by='Quantity', ascending=False).head(10)['Sales']\n",
    "top_price_2 = data[data['K-Means_Cluster']=='Group 2'].sort_values(by='Quantity', ascending=False).head(10)['Sales']\n",
    "top_price_3 = data[data['K-Means_Cluster']=='Group 3'].sort_values(by='Quantity', ascending=False).head(10)['Sales']\n",
    "top_price_4 = data[data['K-Means_Cluster']=='Group 4'].sort_values(by='Quantity', ascending=False).head(10)['Sales']"
   ]
  },
  {
   "cell_type": "code",
   "execution_count": null,
   "metadata": {},
   "outputs": [],
   "source": [
    "temp_stock = pd.DataFrame()\n",
    "temp_stock.insert(loc=0, value=top_5_1.values, column='Group 1')\n",
    "temp_stock.insert(loc=1, value=top_5_2.values, column='Group 2')\n",
    "temp_stock.insert(loc=2, value=top_5_3.values, column='Group 3')\n",
    "temp_stock.insert(loc=3, value=top_5_4.values, column='Group 4')\n",
    "temp_stock"
   ]
  },
  {
   "cell_type": "code",
   "execution_count": null,
   "metadata": {},
   "outputs": [],
   "source": [
    "price_cluster = pd.DataFrame()\n",
    "price_cluster.insert(loc=0, value=top_price_1.values, column='Group 1')\n",
    "price_cluster.insert(loc=1, value=top_price_2.values, column='Group 2')\n",
    "price_cluster.insert(loc=2, value=top_price_3.values, column='Group 3')\n",
    "price_cluster.insert(loc=3, value=top_price_4.values, column='Group 4')\n",
    "price_cluster"
   ]
  },
  {
   "cell_type": "code",
   "execution_count": null,
   "metadata": {},
   "outputs": [],
   "source": [
    "plt.style.use('seaborn-white')\n",
    "\n",
    "fig, ax1 = plt.subplots(figsize=(12, 8))\n",
    "ax1 = price_cluster['Group 3'].plot(kind='bar', color='y')\n",
    "ax2 = price_cluster['Group 4'].plot(kind='bar', color='g')\n",
    "ax3 = price_cluster['Group 1'].plot(kind='bar', color='b')\n",
    "ax4 = price_cluster['Group 2'].plot(kind='bar', color='r')\n",
    "\n",
    "ax1.set_ylabel('Stock Price',fontsize=15)\n",
    "ax1.set_title('Top 10 Common Stock Prices for each Clusters',fontsize=15)\n",
    "\n",
    "plt.xticks(rotation=(0))\n",
    "plt.legend()"
   ]
  },
  {
   "cell_type": "markdown",
   "metadata": {},
   "source": [
    "### 4. When does each cluster usually made an order?"
   ]
  },
  {
   "cell_type": "code",
   "execution_count": null,
   "metadata": {},
   "outputs": [],
   "source": [
    "data[data['K-Means_Cluster']=='Group 1']"
   ]
  },
  {
   "cell_type": "code",
   "execution_count": null,
   "metadata": {},
   "outputs": [],
   "source": [
    "date_group1 = pd.DataFrame(data[data['K-Means_Cluster']=='Group 1'].groupby('DayOfMonth').sum()['Quantity'])\n",
    "date_group2 = pd.DataFrame(data[data['K-Means_Cluster']=='Group 2'].groupby('DayOfMonth').sum()['Quantity'])\n",
    "date_group3 = pd.DataFrame(data[data['K-Means_Cluster']=='Group 3'].groupby('DayOfMonth').sum()['Quantity'])\n",
    "date_group4 = pd.DataFrame(data[data['K-Means_Cluster']=='Group 4'].groupby('DayOfMonth').sum()['Quantity'])\n",
    "\n",
    "date_group1.insert(loc=1, value=date_group2['Quantity'], column='Group 2')\n",
    "date_group1.insert(loc=2, value=date_group3['Quantity'], column='Group 3')\n",
    "date_group1.insert(loc=3, value=date_group4['Quantity'], column='Group 4')\n",
    "date_group1"
   ]
  },
  {
   "cell_type": "code",
   "execution_count": null,
   "metadata": {},
   "outputs": [],
   "source": [
    "fig, ax1 = plt.subplots(figsize=(15, 6))\n",
    "ax1 = date_group1['Group 3'].plot(kind='line', color='y', label='Group 3')\n",
    "ax2 = date_group1['Group 4'].plot(kind='line', color='g', label='Group 4')\n",
    "ax3 = date_group1['Quantity'].plot(kind='line', color='maroon', label='Group 1')\n",
    "ax4 = date_group1['Group 2'].plot(kind='line', color='lightcoral', label='Group 2')\n",
    "\n",
    "ax1.set_xlabel('Date',fontsize=15)\n",
    "ax1.set_ylabel('Orders',fontsize=15)\n",
    "ax1.set_title('Orders Made by Group 1 For Each Date(1st Dec 2010 - 9th Dec 2011)',fontsize=15)\n",
    "plt.legend()"
   ]
  },
  {
   "cell_type": "code",
   "execution_count": null,
   "metadata": {},
   "outputs": [],
   "source": [
    "data[data['Discount']>0]"
   ]
  },
  {
   "cell_type": "markdown",
   "metadata": {},
   "source": [
    "### 5. How does each cluster react on a discounts?"
   ]
  },
  {
   "cell_type": "code",
   "execution_count": null,
   "metadata": {},
   "outputs": [],
   "source": [
    "months = ['january', 'february', 'march', 'april', 'may', 'june', \n",
    "          'july', 'august', 'september', 'october', 'november', 'desember']\n",
    "\n",
    "disc_count = []\n",
    "mon_ord = []\n",
    "mon_ord_1 = []\n",
    "mon_ord_2 = []\n",
    "mon_ord_3 = []\n",
    "mon_ord_4 = []\n",
    "\n",
    "for i in range(1,13):\n",
    "    mon_ord.append(data[data['Months'] == i]['Quantity'].sum())\n",
    "    mon_ord_1.append(data[(data['Months'] == i)&(data['K-Means_Cluster']=='Group 1')]['Quantity'].sum())\n",
    "    mon_ord_2.append(data[(data['Months'] == i)&(data['K-Means_Cluster']=='Group 2')]['Quantity'].sum())\n",
    "    mon_ord_3.append(data[(data['Months'] == i)&(data['K-Means_Cluster']=='Group 3')]['Quantity'].sum())\n",
    "    mon_ord_4.append(data[(data['Months'] == i)&(data['K-Means_Cluster']=='Group 4')]['Quantity'].sum())    \n",
    "    disc_count.append(data[(data['Discount']>0) &(data['Months'] == i)]['Discount'].count())\n",
    "    \n",
    "disc_ord = pd.DataFrame({'num_of_disc': disc_count, \"Group 1\": mon_ord_1, \"Group 2\": mon_ord_2,\n",
    "                         \"Group 3\": mon_ord_3, \"Group 4\": mon_ord_4}, index=months)\n",
    "disc_ord"
   ]
  },
  {
   "cell_type": "code",
   "execution_count": null,
   "metadata": {},
   "outputs": [],
   "source": [
    "fig, ax1 = plt.subplots(figsize=(15, 6))\n",
    "ax1 = disc_ord['num_of_disc'].plot(kind='bar', color='y', label='Number of Discounts')\n",
    "ax2 = disc_ord['Group 1'].plot(kind='line', marker='d', secondary_y=True, label = 'Order Made By Group 1')\n",
    "ax3 = disc_ord['Group 2'].plot(kind='line', marker='+', secondary_y=True, label = 'Order Made By Group 2')\n",
    "ax4 = disc_ord['Group 3'].plot(kind='line', marker='x', secondary_y=True, label = 'Order Made By Group 3')\n",
    "ax5 = disc_ord['Group 4'].plot(kind='line', marker='X', secondary_y=True, label = 'Order Made By Group 4')\n",
    "\n",
    "ax1.set_xlabel('Months',fontsize=15)\n",
    "ax1.set_ylabel('Number of Discounts',fontsize=15)\n",
    "ax2.set_ylabel('Order Made by Group 1',fontsize=15)\n",
    "ax1.set_title('Monthly Discounts VS all Group Order',fontsize=15)\n",
    "fig.legend(loc=\"upper left\", bbox_to_anchor=(0.02,0.96), bbox_transform=ax1.transAxes)"
   ]
  },
  {
   "cell_type": "code",
   "execution_count": null,
   "metadata": {},
   "outputs": [],
   "source": [
    "fig, ax1 = plt.subplots(figsize=(15, 6))\n",
    "ax1 = disc_ord['num_of_disc'].plot(kind='bar', color='y', label='Number of Discounts')\n",
    "ax2 = disc_ord['Group 1'].plot(kind='line', marker='+', secondary_y=True, label = 'Order Made By Group 3')\n",
    "ax3 = disc_ord['Group 2'].plot(kind='line', marker='x', secondary_y=True, label = 'Order Made By Group 4')\n",
    "\n",
    "\n",
    "ax1.set_xlabel('Months',fontsize=15)\n",
    "ax1.set_ylabel('Number of Discounts',fontsize=15)\n",
    "ax2.set_ylabel('Order Made by Group 1',fontsize=15)\n",
    "ax1.set_title('Monthly Discounts VS Group 3 & 4 Order',fontsize=15)\n",
    "fig.legend(loc=\"upper left\", bbox_to_anchor=(0.02,0.96), bbox_transform=ax1.transAxes)"
   ]
  },
  {
   "cell_type": "code",
   "execution_count": null,
   "metadata": {},
   "outputs": [],
   "source": [
    "fig, ax1 = plt.subplots(figsize=(15, 6))\n",
    "ax1 = disc_ord['num_of_disc'].plot(kind='bar', color='y', label='Number of Discounts')\n",
    "ax2 = disc_ord['Group 3'].plot(kind='line', marker='+', secondary_y=True, label = 'Order Made By Group 2')\n",
    "ax3 = disc_ord['Group 4'].plot(kind='line', marker='x', secondary_y=True, label = 'Order Made By Group 1')\n",
    "\n",
    "\n",
    "ax1.set_xlabel('Months',fontsize=15)\n",
    "ax1.set_ylabel('Number of Discounts',fontsize=15)\n",
    "ax2.set_ylabel('Order Made',fontsize=15)\n",
    "ax1.set_title('Monthly Discounts VS Group 1 & 2 Order',fontsize=15)\n",
    "fig.legend(loc=\"upper left\", bbox_to_anchor=(0.02,0.96), bbox_transform=ax1.transAxes)"
   ]
  },
  {
   "cell_type": "markdown",
   "metadata": {},
   "source": [
    "### 5. How does each cluster react on a discounts?"
   ]
  },
  {
   "cell_type": "code",
   "execution_count": null,
   "metadata": {},
   "outputs": [],
   "source": [
    "disc_corr = disc_ord.corr()\n",
    "disc_corr = pd.DataFrame(disc_corr.drop('num_of_disc')['num_of_disc'])\n",
    "disc_corr.sort_values(by='num_of_disc', ascending=False)"
   ]
  },
  {
   "cell_type": "code",
   "execution_count": null,
   "metadata": {},
   "outputs": [],
   "source": [
    "disc_corr = pd.DataFrame(disc_ord.corr('spearman')['num_of_disc'].sort_values(ascending=False))\n",
    "disc_corr.drop(['num_of_disc'], inplace=True)\n",
    "\n",
    "fig, ax1 = plt.subplots(figsize=(15, 6))\n",
    "ax1 = disc_corr['num_of_disc'].plot(kind='bar', color='y', label='Discount Sentiment Each Cluster')\n",
    "ax1.set_xlabel('Clusters',fontsize=15)\n",
    "ax1.set_ylabel('Number of Discounts',fontsize=15)\n",
    "ax2.set_ylabel('Order Made by Group 1',fontsize=15)\n",
    "ax1.set_title('Discount Sentiment Each Cluster',fontsize=15)\n",
    "plt.xticks(rotation=(0))\n",
    "plt.legend()"
   ]
  },
  {
   "cell_type": "code",
   "execution_count": null,
   "metadata": {},
   "outputs": [],
   "source": [
    "print(f\"The highest profit gained by the store is USD {data['Profit'].max()}\")\n",
    "print(f\"The highest loss suffered by the store is USD {abs(data['Profit'].min())}\")"
   ]
  },
  {
   "cell_type": "code",
   "execution_count": null,
   "metadata": {},
   "outputs": [],
   "source": [
    "data"
   ]
  },
  {
   "cell_type": "code",
   "execution_count": null,
   "metadata": {},
   "outputs": [],
   "source": []
  }
 ],
 "metadata": {
  "kernelspec": {
   "display_name": "Python 3",
   "language": "python",
   "name": "python3"
  },
  "language_info": {
   "codemirror_mode": {
    "name": "ipython",
    "version": 3
   },
   "file_extension": ".py",
   "mimetype": "text/x-python",
   "name": "python",
   "nbconvert_exporter": "python",
   "pygments_lexer": "ipython3",
   "version": "3.8.5"
  }
 },
 "nbformat": 4,
 "nbformat_minor": 4
}
